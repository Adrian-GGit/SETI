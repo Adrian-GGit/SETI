{
 "cells": [
  {
   "cell_type": "code",
   "execution_count": null,
   "metadata": {},
   "outputs": [],
   "source": [
    "from cv import Cadence"
   ]
  },
  {
   "cell_type": "code",
   "execution_count": null,
   "metadata": {},
   "outputs": [],
   "source": [
    "snake = \"../input/seti-breakthrough-listen/train/0/002efdabe4e3e45.npy\"\n",
    "noisy = \"../input/seti-breakthrough-listen/train/0/0028a35de92941d.npy\"\n",
    "very_low_signal = \"../input/seti-breakthrough-listen/train/0/0347524a518ad36.npy\"\n",
    "signal_in_noisy_area = \"../input/seti-breakthrough-listen/train/0/050b3f55c7d7ff4.npy\"\n",
    "very_low_signal_2 = \"../input/seti-breakthrough-listen/train/0/0653719867ec6cd.npy\"\n",
    "hard_to_see = \"../input/seti-breakthrough-listen/train/0/0024012d1431fbc.npy\" # pretty hard to see in first on target on the right\n",
    "# hard_to_see_with_cv_1 = \"../input/seti-breakthrough-listen/train/0/00f129775fd7792.npy\" # snake line on pic 3\n",
    "hard_to_see_with_cv_2 = \"../input/seti-breakthrough-listen/train/0/00ffccd75595515.npy\" # vertical line on pic 1, 2, 3\n",
    "hard_to_see_with_cv_3 = \"../input/seti-breakthrough-listen/train/0/010b8dc237f2d74.npy\" # vertical line on pic 1, 2, 3\n",
    "hard_to_see_with_cv_4 = \"../input/seti-breakthrough-listen/train/0/0144b592dab0b64.npy\" # vertical line on pic 1, 2, 3\n",
    "hard_to_see_with_cv_5 = \"../input/seti-breakthrough-listen/train/0/015caa134a91f8f.npy\" # vertical line on pic 3\n",
    "hard_to_see_with_cv_6 = \"../input/seti-breakthrough-listen/train/0/01d30867493c1aa.npy\" # almost diagonal line on pic 1, 3\n",
    "hard_to_see_with_cv_7 = \"../input/seti-breakthrough-listen/train/0/01fbbe7810f2f98.npy\"\n",
    "hard_to_see_with_cv_8 = \"../input/seti-breakthrough-listen/train/0/0207f5b2147ec36.npy\" # snake lines on pic 1, 2, 3\n",
    "hard_to_see_with_cv_9 = \"../input/seti-breakthrough-listen/train/0/02504e8ff8d3f66.npy\" # vertical line on pic 1, 2, 3\n",
    "hard_to_see_with_cv_10 = \"../input/seti-breakthrough-listen/train/0/0252feb36ace15f.npy\" # veritcal line on pic 1\n",
    "hard_to_see_with_cv_11 = \"../input/seti-breakthrough-listen/train/0/027130b743b3925.npy\" \n",
    "hard_to_see_with_cv_12 = \"../input/seti-breakthrough-listen/train/0/0282516e77f0b5a.npy\" # snake lines on pic 1, 2\n",
    "hard_to_see_with_cv_13 = \"../input/seti-breakthrough-listen/train/0/02919380c37fb34.npy\" # vertical line on pic 2\n",
    "hard_to_see_with_cv_14 = \"../input/seti-breakthrough-listen/train/0/02b30cca710996e.npy\"\n",
    "hard_to_see_with_cv_15 = \"../input/seti-breakthrough-listen/train/0/02d9cf5b3287634.npy\" # vertical line on pic 1, 2, 3\n",
    "for_improving_noisy_background = \"../input/seti-breakthrough-listen/train/0/01949813672be23.npy\"\n",
    "for_improving_noisy_background_2 = \"../input/seti-breakthrough-listen/train/0/01978740370eb8a.npy\" # probably snakey lines in middle of on target pics\n",
    "for_improving_blue_background = \"../input/seti-breakthrough-listen/train/0/0185064f450d906.npy\"\n",
    "for_improving_blue_background_2 = \"../input/seti-breakthrough-listen/train/0/0232f867b524219.npy\"\n",
    "for_improving_blue_background_3 = \"../input/seti-breakthrough-listen/train/0/02f39b41f276683.npy\"\n",
    "test = \"./train/0/032dd3aa6b1fe9a.npy\"\n",
    "\n",
    "test_cadence = Cadence(hard_to_see_with_cv_3)\n",
    "# test_cadence = Cadence(hard_to_see_with_cv_2)\n",
    "# test_cadence = Cadence(snake)\n",
    "\n",
    "test_cadence.cv()\n",
    "# test_cadence.cv_with_lib()"
   ]
  }
 ],
 "metadata": {
  "interpreter": {
   "hash": "d732253fbaeb51ec31b91285395d5f4c2c3f3038b555beffdf3ceee519712dcc"
  },
  "kernelspec": {
   "display_name": "Python 3.9.5 64-bit ('seti': conda)",
   "name": "python3"
  },
  "language_info": {
   "codemirror_mode": {
    "name": "ipython",
    "version": 3
   },
   "file_extension": ".py",
   "mimetype": "text/x-python",
   "name": "python",
   "nbconvert_exporter": "python",
   "pygments_lexer": "ipython3",
   "version": "3.8.12"
  },
  "orig_nbformat": 4
 },
 "nbformat": 4,
 "nbformat_minor": 2
}
