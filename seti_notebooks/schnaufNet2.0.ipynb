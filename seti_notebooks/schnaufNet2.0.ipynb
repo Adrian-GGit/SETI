{
 "cells": [
  {
   "cell_type": "code",
   "execution_count": 21,
   "metadata": {},
   "outputs": [],
   "source": [
    "import numpy as np\n",
    "import math\n",
    "import matplotlib.pyplot as plt\n",
    "import pandas as pd\n",
    "from tqdm import tqdm\n",
    "import torch\n",
    "import random\n",
    "import os\n",
    "from torch.utils.data import Dataset, DataLoader\n",
    "from torch import nn\n",
    "import albumentations as A\n",
    "from torch.utils.data.sampler import WeightedRandomSampler\n",
    "from ignite.metrics import Recall, Precision, Accuracy\n",
    "from sklearn import metrics\n",
    "import codecs\n",
    "from efficientnet_pytorch import model as enet\n",
    "from sklearn.model_selection import StratifiedKFold"
   ]
  },
  {
   "cell_type": "code",
   "execution_count": 22,
   "metadata": {},
   "outputs": [],
   "source": [
    "torch.cuda.empty_cache()"
   ]
  },
  {
   "cell_type": "markdown",
   "metadata": {},
   "source": [
    "### Config"
   ]
  },
  {
   "cell_type": "code",
   "execution_count": 23,
   "metadata": {},
   "outputs": [
    {
     "name": "stdout",
     "output_type": "stream",
     "text": [
      "Using cuda device\n"
     ]
    }
   ],
   "source": [
    "conf_dict = {\n",
    "    \"batch_size\": 8,\n",
    "    \"learn_rate\": 1e-3,\n",
    "    \"min_learn_rate\": 1e-6,\n",
    "    \"weight_decay\": 1e-4,\n",
    "    \"epochs\": 10,\n",
    "    \"folds\": 5,\n",
    "\n",
    "    \"transfer_model_name\": \"efficientnet-b1\",\n",
    "    \"efficientnet_pth\": \"efficientnet-b1-dbc7070a.pth\",\n",
    "    \"model\": \"schnaufnet_trained\",\n",
    "    \"model_to_load\": \"schnaufnet_trained.pth\",\n",
    "\n",
    "    \"input_dir\": \"../input/seti-breakthrough-listen/\",\n",
    "    \"train_dir\": \"../input/seti-breakthrough-listen/train/\",\n",
    "    \"train_csv\": \"train_labels.csv\",\n",
    "    \"test_dir\": \"../input/seti-breakthrough-listen/test/\",\n",
    "    \"test_csv\": \"sample_submission.csv\",\n",
    "    \"efficientnetdir\": \"../input/efficientnetpytorch/\",\n",
    "    \"height\": 256,\n",
    "    \"width\": 256,\n",
    "\n",
    "    \"origin_height\": 273,\n",
    "    \"origin_width\": 256,\n",
    "\n",
    "    \"use_all\": True,\n",
    "    \"only_use\": 1000,\n",
    "    \"behaviours\": {\n",
    "        \"all\": \"all\",\n",
    "        \"weighted\": \"weighted\",\n",
    "    },\n",
    "    \"split_until_ratio\": (3 / 4),\n",
    "    \"load_model\": False,\n",
    "}\n",
    "current_split_behaviour = conf_dict[\"behaviours\"][\"weighted\"]\n",
    "new_split_behaviour = conf_dict[\"behaviours\"][\"all\"]\n",
    "\n",
    "device = 'cuda' if torch.cuda.is_available() else 'cpu'\n",
    "print(f'Using {device} device')"
   ]
  },
  {
   "cell_type": "code",
   "execution_count": 24,
   "metadata": {},
   "outputs": [],
   "source": [
    "def set_seed(seed=0):\n",
    "    np.random.seed(seed)\n",
    "    random_state = np.random.RandomState(seed)\n",
    "    random.seed(seed)\n",
    "    torch.manual_seed(seed)\n",
    "    torch.cuda.manual_seed(seed)\n",
    "    torch.backends.cudnn.deterministic = True\n",
    "    torch.backends.cudnn.benchmark = False\n",
    "    os.environ['PYTHONHASHSEED'] = str(seed)\n",
    "    return random_state\n",
    "\n",
    "random_state = set_seed(2021)"
   ]
  },
  {
   "cell_type": "markdown",
   "metadata": {},
   "source": [
    "### Custom Dataset"
   ]
  },
  {
   "cell_type": "code",
   "execution_count": 25,
   "metadata": {},
   "outputs": [],
   "source": [
    "class SETIDataset(Dataset):\n",
    "\t\"\"\"Dataset for training data\"\"\"\n",
    "\tdef __init__(self, df, transform=None):\n",
    "\t\tself.df = df\n",
    "\t\tself.labels = self.df[\"target\"].values\n",
    "\t\tself.file_names = self.df['file_path'].values\n",
    "\t\tself.transform = transform\n",
    "\n",
    "\tdef __len__(self):\n",
    "\t\treturn len(self.df)\n",
    "\n",
    "\tdef __getitem__(self, idx):\n",
    "\t\tfile_path = self.file_names[idx]\n",
    "\t\timage = np.load(file_path)\n",
    "\t\timage = image.astype(np.float32)\n",
    "\t\timage = np.vstack(image).T\n",
    "\t\tif self.transform:\n",
    "\t\t\timage = self.transform(image=image)['image']\n",
    "\t\telse:\n",
    "\t\t\timage = image[np.newaxis,:,:] # add dimension\n",
    "\t\t\timage = torch.from_numpy(image).float()\n",
    "\t\timage = torch.from_numpy(image).unsqueeze(dim=0)\n",
    "\t\tlabel = torch.tensor(self.labels[idx]).float()\n",
    "\t\treturn image, label"
   ]
  },
  {
   "cell_type": "code",
   "execution_count": 26,
   "metadata": {},
   "outputs": [],
   "source": [
    "class EfficientNetBackbone(nn.Module):\n",
    "    def __init__(self, out_dim, load_schnaufnet_model=False):\n",
    "        super(EfficientNetBackbone, self).__init__()\n",
    "        print(\"Initializing Efficientnet Backbone\")\n",
    "        model_name = conf_dict[\"transfer_model_name\"]\n",
    "        self.efficientnet = enet.EfficientNet.from_name(model_name)\n",
    "        if not load_schnaufnet_model:\n",
    "            print(\"Loading pretrained efficientnet model\")\n",
    "            pretrained_model = {\n",
    "                model_name: conf_dict[\"efficientnetdir\"] + conf_dict[\"efficientnet_pth\"]\n",
    "            }\n",
    "            self.efficientnet.load_state_dict(torch.load(pretrained_model[model_name]))\n",
    "        else:\n",
    "            print(\"Loading pretrained schnaufnet model\")\n",
    "            model.load_state_dict(torch.load(conf_dict[\"model_to_load\"]))\n",
    "        self.first_layer = nn.Conv2d(1, 3, kernel_size=3, stride=1, padding=3, bias=False)\n",
    "        self.final_layer = nn.Linear(self.efficientnet._fc.in_features, out_dim)\n",
    "        self.efficientnet._fc = nn.Identity()\n",
    "\n",
    "    def extract(self, x):\n",
    "        return self.efficientnet(x)\n",
    "\n",
    "    def forward(self, x):\n",
    "        x = self.first_layer(x)\n",
    "        x = self.extract(x)\n",
    "        x = self.final_layer(x)\n",
    "        return x"
   ]
  },
  {
   "cell_type": "code",
   "execution_count": 27,
   "metadata": {},
   "outputs": [],
   "source": [
    "def split(train_index, val_index, behaviour=\"all\"):\n",
    "    train_df, val_df = df_train.iloc[train_index], df_train.iloc[val_index]\n",
    "    \n",
    "    dataset_train = SETIDataset(train_df, transform=get_transforms(data=\"train\"))\n",
    "    dataset_val = SETIDataset(val_df, transform=get_transforms(data=\"val\"))\n",
    "\n",
    "    if behaviour == conf_dict[\"behaviours\"][\"weighted\"]:\n",
    "        print(\"Using 50/50 weighted data...\")\n",
    "        labels = np.array(dataset_train.labels)\n",
    "        class_counts = np.array(\n",
    "            [len(np.where(labels == t)[0]) for t in np.unique(labels)])\n",
    "        num_samples = sum(class_counts)\n",
    "        class_weights = [num_samples/class_counts[i] for i in range(len(class_counts))]\n",
    "        weights = [class_weights[labels[i]] for i in range(int(num_samples))]\n",
    "        sampler = WeightedRandomSampler(torch.DoubleTensor(weights), int(num_samples))\n",
    "        train_dataloader = DataLoader(\n",
    "            dataset_train, batch_size=conf_dict[\"batch_size\"], sampler=sampler)\n",
    "    elif behaviour == conf_dict[\"behaviours\"][\"all\"]:\n",
    "        print(\"Using original full data...\")\n",
    "        train_dataloader = DataLoader(dataset_train, batch_size=conf_dict[\"batch_size\"], shuffle=True)#, num_workers=2)\n",
    "    val_dataloader = DataLoader(dataset_val, batch_size=conf_dict[\"batch_size\"], shuffle=True)#, num_workers=2)\n",
    "    print(f\"Successfully splitted dataset!\\n Trainbatches: {len(train_dataloader)}\\n Validationbatches: {len(val_dataloader)}\")\n",
    "\n",
    "    return train_dataloader, val_dataloader"
   ]
  },
  {
   "cell_type": "code",
   "execution_count": 28,
   "metadata": {},
   "outputs": [],
   "source": [
    "def train_loop(model, train_dataloader, optimizer, loss_fn, scheduler, epoch_loss_list):\n",
    "    print(\"Starting model training...\")\n",
    "    model.train()\n",
    "    epoch_loss = 0\n",
    "    num_batches = len(train_dataloader)\n",
    "\n",
    "    accuracy = Accuracy()\n",
    "    precision = Precision()\n",
    "    recall = Recall()\n",
    "\n",
    "    for (images, labels) in tqdm(train_dataloader, position=0, leave=True, desc='Training'):\n",
    "        images = images.to(device, dtype=torch.float)\n",
    "        labels = labels.to(device, dtype=torch.float)\n",
    "\n",
    "        optimizer.zero_grad()\n",
    "        pred = model(images)\n",
    "        loss = loss_fn(pred.view(labels.size(0)), labels.to(torch.float32))\n",
    "        epoch_loss += loss.item()\n",
    "        loss.backward()\n",
    "        optimizer.step()\n",
    "        scheduler.step()\n",
    "        predicted = torch.sigmoid(pred).round()\n",
    "        accuracy.update((predicted, labels))\n",
    "        precision.update((predicted, labels))\n",
    "        recall.update((predicted, labels))\n",
    "\n",
    "    avg_epoch_loss = epoch_loss / num_batches\n",
    "    epoch_loss_list.append(avg_epoch_loss)\n",
    "    print(f\"\"\"Training Error: \\n \n",
    "        Accuracy: {100*accuracy.compute():>2f}%, \\n\n",
    "        Recall: {100*recall.compute():>2f}%, \\n\n",
    "        Precision: {100*precision.compute():>2f}%, \\n\n",
    "        Avg loss: {avg_epoch_loss:>2f} \\n\n",
    "    \"\"\")\n",
    "    with codecs.open('logs/schnaufNet2.0 train.log', 'a') as up:\n",
    "        up.write(f\"\"\"Validation Error: \\n\n",
    "            Accuracy: {100*accuracy.compute():2f}%, \\n\n",
    "            Recall: {100*recall.compute():2f}%, \\n\n",
    "            Precision: {100*precision.compute():>2f}%, \\n\n",
    "            Avg loss: {avg_epoch_loss:>2f} \\n\n",
    "        \"\"\")\n",
    "\n",
    "def validation_loop(model, val_dataloader, loss_fn):\n",
    "    print(\"Starting model validation...\")\n",
    "    model.eval()\n",
    "\n",
    "    epoch_loss = 0\n",
    "    num_batches = len(val_dataloader)\n",
    "    epoch_labels = []\n",
    "    epoch_preds = []\n",
    "\n",
    "    accuracy = Accuracy()\n",
    "    precision = Precision()\n",
    "    recall = Recall()\n",
    "\n",
    "    with torch.no_grad():\n",
    "        for (images, labels) in tqdm(val_dataloader, position=0, leave=True, desc='Evaluating'):\n",
    "            images = images.to(device)\n",
    "            labels = labels.to(device)\n",
    "\n",
    "            pred = model(images)\n",
    "            loss = loss_fn(pred.view(labels.size(0)), labels.to(torch.float32))\n",
    "            epoch_loss += loss.item()\n",
    "\n",
    "            predicted_raw = torch.sigmoid(pred)\n",
    "            predicted = predicted_raw.round()\n",
    "\n",
    "            accuracy.update((predicted, labels))\n",
    "            precision.update((predicted, labels))\n",
    "            recall.update((predicted, labels))\n",
    "            \n",
    "            labels = labels.detach().cpu().numpy().tolist()\n",
    "            predicted_raw = predicted_raw.detach().cpu().numpy().tolist()\n",
    "            epoch_labels.extend(labels)\n",
    "            epoch_preds.extend(predicted_raw)\n",
    "\n",
    "    avg_epoch_loss = epoch_loss / num_batches\n",
    "    print(f\"\"\"Validation Error: \\n\n",
    "        Accuracy: {100*accuracy.compute():2f}%, \\n\n",
    "        Recall: {100*recall.compute():2f}%, \\n\n",
    "        Precision: {100*precision.compute():>2f}%, \\n\n",
    "        Avg loss: {avg_epoch_loss:>2f} \\n\n",
    "    \"\"\")\n",
    "    with codecs.open('logs/schnaufNet2.0 validation.log', 'a') as up:\n",
    "        up.write(f\"\"\"Validation Error: \\n\n",
    "            Accuracy: {100*accuracy.compute():2f}%, \\n\n",
    "            Recall: {100*recall.compute():2f}%, \\n\n",
    "            Precision: {100*precision.compute():>2f}%, \\n\n",
    "            Avg loss: {avg_epoch_loss:>2f} \\n\n",
    "        \"\"\")\n",
    "    return epoch_labels, epoch_preds"
   ]
  },
  {
   "cell_type": "code",
   "execution_count": 29,
   "metadata": {},
   "outputs": [],
   "source": [
    "def get_transforms(data):\n",
    "    if data == 'train':\n",
    "        return A.Compose([\n",
    "            A.Resize(conf_dict[\"height\"], conf_dict[\"width\"]),\n",
    "            A.VerticalFlip(p=0.5),\n",
    "            A.HorizontalFlip(p=0.5),\n",
    "        ])\n",
    "    elif data == 'val':\n",
    "        return A.Compose([\n",
    "            A.Resize(conf_dict[\"height\"], conf_dict[\"width\"]),\n",
    "        ])\n",
    "\n",
    "def get_file_path(target, directory):\n",
    "    return directory + \"{}/{}.npy\".format(target[0], target)"
   ]
  },
  {
   "cell_type": "code",
   "execution_count": 30,
   "metadata": {},
   "outputs": [
    {
     "name": "stdout",
     "output_type": "stream",
     "text": [
      "Initializing Efficientnet Backbone\n",
      "Loading pretrained efficientnet model\n",
      "Fold 1/5 | Epoch 1/2\n",
      "-------------------------------\n",
      "Using weighted behaviour\n",
      "Using 50/50 weighted data...\n",
      "Successfully splitted dataset!\n",
      " Trainbatches: 6000\n",
      " Validationbatches: 1500\n",
      "Starting model training...\n"
     ]
    },
    {
     "name": "stderr",
     "output_type": "stream",
     "text": [
      "Training: 100%|██████████| 6000/6000 [58:21<00:00,  1.71it/s]  \n"
     ]
    },
    {
     "name": "stdout",
     "output_type": "stream",
     "text": [
      "Training Error: \n",
      " \n",
      "        Accuracy: 63.787500%, \n",
      "\n",
      "        Recall: 47.206271%, \n",
      "\n",
      "        Precision: 70.172596%, \n",
      "\n",
      "        Avg loss: 0.605525 \n",
      "\n",
      "    \n",
      "Starting model validation...\n"
     ]
    },
    {
     "name": "stderr",
     "output_type": "stream",
     "text": [
      "Evaluating: 100%|██████████| 1500/1500 [12:39<00:00,  1.98it/s]\n"
     ]
    },
    {
     "name": "stdout",
     "output_type": "stream",
     "text": [
      "Validation Error: \n",
      "\n",
      "        Accuracy: 89.783333%, \n",
      "\n",
      "        Recall: 38.416667%, \n",
      "\n",
      "        Precision: 48.628692%, \n",
      "\n",
      "        Avg loss: 0.467224 \n",
      "\n",
      "    \n",
      "Val ROC AUC Score: 0.7426060185185185\n"
     ]
    },
    {
     "data": {
      "image/png": "[encoded data removed]",
      "text/plain": [
       "<Figure size 432x288 with 1 Axes>"
      ]
     },
     "metadata": {
      "needs_background": "light"
     },
     "output_type": "display_data"
    },
    {
     "name": "stdout",
     "output_type": "stream",
     "text": [
      "Fold 1/5 | Epoch 2/2\n",
      "-------------------------------\n",
      "Using all behaviour\n",
      "Using original full data...\n",
      "Successfully splitted dataset!\n",
      " Trainbatches: 6000\n",
      " Validationbatches: 1500\n",
      "Starting model training...\n"
     ]
    },
    {
     "name": "stderr",
     "output_type": "stream",
     "text": [
      "Training: 100%|██████████| 6000/6000 [53:42<00:00,  1.86it/s]  \n"
     ]
    },
    {
     "name": "stdout",
     "output_type": "stream",
     "text": [
      "Training Error: \n",
      " \n",
      "        Accuracy: 92.239583%, \n",
      "\n",
      "        Recall: 27.562500%, \n",
      "\n",
      "        Precision: 84.213877%, \n",
      "\n",
      "        Avg loss: 0.260160 \n",
      "\n",
      "    \n",
      "Starting model validation...\n"
     ]
    },
    {
     "name": "stderr",
     "output_type": "stream",
     "text": [
      "Evaluating: 100%|██████████| 1500/1500 [10:15<00:00,  2.44it/s]\n"
     ]
    },
    {
     "name": "stdout",
     "output_type": "stream",
     "text": [
      "Validation Error: \n",
      "\n",
      "        Accuracy: 91.933333%, \n",
      "\n",
      "        Recall: 19.916667%, \n",
      "\n",
      "        Precision: 97.154472%, \n",
      "\n",
      "        Avg loss: 0.269512 \n",
      "\n",
      "    \n",
      "Val ROC AUC Score: 0.7172048225308643\n"
     ]
    },
    {
     "data": {
      "image/png": "[encoded data removed]",
      "text/plain": [
       "<Figure size 432x288 with 1 Axes>"
      ]
     },
     "metadata": {
      "needs_background": "light"
     },
     "output_type": "display_data"
    },
    {
     "name": "stdout",
     "output_type": "stream",
     "text": [
      "Initializing Efficientnet Backbone\n",
      "Loading pretrained efficientnet model\n",
      "Fold 2/5 | Epoch 1/2\n",
      "-------------------------------\n",
      "Using weighted behaviour\n",
      "Using 50/50 weighted data...\n",
      "Successfully splitted dataset!\n",
      " Trainbatches: 6000\n",
      " Validationbatches: 1500\n",
      "Starting model training...\n"
     ]
    },
    {
     "name": "stderr",
     "output_type": "stream",
     "text": [
      "Training:  18%|█▊        | 1097/6000 [07:58<35:38,  2.29it/s]\n"
     ]
    },
    {
     "ename": "KeyboardInterrupt",
     "evalue": "",
     "output_type": "error",
     "traceback": [
      "\u001b[1;31m---------------------------------------------------------------------------\u001b[0m",
      "\u001b[1;31mKeyboardInterrupt\u001b[0m                         Traceback (most recent call last)",
      "\u001b[1;32m<ipython-input-30-13cd7eb47533>\u001b[0m in \u001b[0;36m<module>\u001b[1;34m\u001b[0m\n\u001b[0;32m     33\u001b[0m             \u001b[0mprint\u001b[0m\u001b[1;33m(\u001b[0m\u001b[1;34mf\"Using {current_split_behaviour} behaviour\"\u001b[0m\u001b[1;33m)\u001b[0m\u001b[1;33m\u001b[0m\u001b[1;33m\u001b[0m\u001b[0m\n\u001b[0;32m     34\u001b[0m             \u001b[0mtrain_dataloader\u001b[0m\u001b[1;33m,\u001b[0m \u001b[0mval_dataloader\u001b[0m \u001b[1;33m=\u001b[0m \u001b[0msplit\u001b[0m\u001b[1;33m(\u001b[0m\u001b[0mtrain_index\u001b[0m\u001b[1;33m,\u001b[0m \u001b[0mval_index\u001b[0m\u001b[1;33m,\u001b[0m \u001b[0mbehaviour\u001b[0m\u001b[1;33m=\u001b[0m\u001b[0mcurrent_split_behaviour\u001b[0m\u001b[1;33m)\u001b[0m\u001b[1;33m\u001b[0m\u001b[1;33m\u001b[0m\u001b[0m\n\u001b[1;32m---> 35\u001b[1;33m         \u001b[0mtrain_loop\u001b[0m\u001b[1;33m(\u001b[0m\u001b[0mmodel\u001b[0m\u001b[1;33m,\u001b[0m \u001b[0mtrain_dataloader\u001b[0m\u001b[1;33m,\u001b[0m \u001b[0moptimizer\u001b[0m\u001b[1;33m,\u001b[0m \u001b[0mloss_fn\u001b[0m\u001b[1;33m,\u001b[0m \u001b[0mscheduler\u001b[0m\u001b[1;33m,\u001b[0m \u001b[0mepoch_train_loss_list\u001b[0m\u001b[1;33m)\u001b[0m\u001b[1;33m\u001b[0m\u001b[1;33m\u001b[0m\u001b[0m\n\u001b[0m\u001b[0;32m     36\u001b[0m         \u001b[0mval_labels\u001b[0m\u001b[1;33m,\u001b[0m \u001b[0mval_predictions\u001b[0m \u001b[1;33m=\u001b[0m \u001b[0mvalidation_loop\u001b[0m\u001b[1;33m(\u001b[0m\u001b[0mmodel\u001b[0m\u001b[1;33m,\u001b[0m \u001b[0mval_dataloader\u001b[0m\u001b[1;33m,\u001b[0m \u001b[0mloss_fn\u001b[0m\u001b[1;33m)\u001b[0m\u001b[1;33m\u001b[0m\u001b[1;33m\u001b[0m\u001b[0m\n\u001b[0;32m     37\u001b[0m         \u001b[0mroc_auc\u001b[0m \u001b[1;33m=\u001b[0m \u001b[0mmetrics\u001b[0m\u001b[1;33m.\u001b[0m\u001b[0mroc_auc_score\u001b[0m\u001b[1;33m(\u001b[0m\u001b[0mval_labels\u001b[0m\u001b[1;33m,\u001b[0m \u001b[0mval_predictions\u001b[0m\u001b[1;33m)\u001b[0m\u001b[1;33m\u001b[0m\u001b[1;33m\u001b[0m\u001b[0m\n",
      "\u001b[1;32m<ipython-input-28-1100972f863c>\u001b[0m in \u001b[0;36mtrain_loop\u001b[1;34m(model, train_dataloader, optimizer, loss_fn, scheduler, epoch_loss_list)\u001b[0m\n\u001b[0;32m      9\u001b[0m     \u001b[0mrecall\u001b[0m \u001b[1;33m=\u001b[0m \u001b[0mRecall\u001b[0m\u001b[1;33m(\u001b[0m\u001b[1;33m)\u001b[0m\u001b[1;33m\u001b[0m\u001b[1;33m\u001b[0m\u001b[0m\n\u001b[0;32m     10\u001b[0m \u001b[1;33m\u001b[0m\u001b[0m\n\u001b[1;32m---> 11\u001b[1;33m     \u001b[1;32mfor\u001b[0m \u001b[1;33m(\u001b[0m\u001b[0mimages\u001b[0m\u001b[1;33m,\u001b[0m \u001b[0mlabels\u001b[0m\u001b[1;33m)\u001b[0m \u001b[1;32min\u001b[0m \u001b[0mtqdm\u001b[0m\u001b[1;33m(\u001b[0m\u001b[0mtrain_dataloader\u001b[0m\u001b[1;33m,\u001b[0m \u001b[0mposition\u001b[0m\u001b[1;33m=\u001b[0m\u001b[1;36m0\u001b[0m\u001b[1;33m,\u001b[0m \u001b[0mleave\u001b[0m\u001b[1;33m=\u001b[0m\u001b[1;32mTrue\u001b[0m\u001b[1;33m,\u001b[0m \u001b[0mdesc\u001b[0m\u001b[1;33m=\u001b[0m\u001b[1;34m'Training'\u001b[0m\u001b[1;33m)\u001b[0m\u001b[1;33m:\u001b[0m\u001b[1;33m\u001b[0m\u001b[1;33m\u001b[0m\u001b[0m\n\u001b[0m\u001b[0;32m     12\u001b[0m         \u001b[0mimages\u001b[0m \u001b[1;33m=\u001b[0m \u001b[0mimages\u001b[0m\u001b[1;33m.\u001b[0m\u001b[0mto\u001b[0m\u001b[1;33m(\u001b[0m\u001b[0mdevice\u001b[0m\u001b[1;33m,\u001b[0m \u001b[0mdtype\u001b[0m\u001b[1;33m=\u001b[0m\u001b[0mtorch\u001b[0m\u001b[1;33m.\u001b[0m\u001b[0mfloat\u001b[0m\u001b[1;33m)\u001b[0m\u001b[1;33m\u001b[0m\u001b[1;33m\u001b[0m\u001b[0m\n\u001b[0;32m     13\u001b[0m         \u001b[0mlabels\u001b[0m \u001b[1;33m=\u001b[0m \u001b[0mlabels\u001b[0m\u001b[1;33m.\u001b[0m\u001b[0mto\u001b[0m\u001b[1;33m(\u001b[0m\u001b[0mdevice\u001b[0m\u001b[1;33m,\u001b[0m \u001b[0mdtype\u001b[0m\u001b[1;33m=\u001b[0m\u001b[0mtorch\u001b[0m\u001b[1;33m.\u001b[0m\u001b[0mfloat\u001b[0m\u001b[1;33m)\u001b[0m\u001b[1;33m\u001b[0m\u001b[1;33m\u001b[0m\u001b[0m\n",
      "\u001b[1;32m~\\anaconda3\\envs\\SETI_CNN\\lib\\site-packages\\tqdm\\std.py\u001b[0m in \u001b[0;36m__iter__\u001b[1;34m(self)\u001b[0m\n\u001b[0;32m   1178\u001b[0m \u001b[1;33m\u001b[0m\u001b[0m\n\u001b[0;32m   1179\u001b[0m         \u001b[1;32mtry\u001b[0m\u001b[1;33m:\u001b[0m\u001b[1;33m\u001b[0m\u001b[1;33m\u001b[0m\u001b[0m\n\u001b[1;32m-> 1180\u001b[1;33m             \u001b[1;32mfor\u001b[0m \u001b[0mobj\u001b[0m \u001b[1;32min\u001b[0m \u001b[0miterable\u001b[0m\u001b[1;33m:\u001b[0m\u001b[1;33m\u001b[0m\u001b[1;33m\u001b[0m\u001b[0m\n\u001b[0m\u001b[0;32m   1181\u001b[0m                 \u001b[1;32myield\u001b[0m \u001b[0mobj\u001b[0m\u001b[1;33m\u001b[0m\u001b[1;33m\u001b[0m\u001b[0m\n\u001b[0;32m   1182\u001b[0m                 \u001b[1;31m# Update and possibly print the progressbar.\u001b[0m\u001b[1;33m\u001b[0m\u001b[1;33m\u001b[0m\u001b[1;33m\u001b[0m\u001b[0m\n",
      "\u001b[1;32m~\\anaconda3\\envs\\SETI_CNN\\lib\\site-packages\\torch\\utils\\data\\dataloader.py\u001b[0m in \u001b[0;36m__next__\u001b[1;34m(self)\u001b[0m\n\u001b[0;32m    519\u001b[0m             \u001b[1;32mif\u001b[0m \u001b[0mself\u001b[0m\u001b[1;33m.\u001b[0m\u001b[0m_sampler_iter\u001b[0m \u001b[1;32mis\u001b[0m \u001b[1;32mNone\u001b[0m\u001b[1;33m:\u001b[0m\u001b[1;33m\u001b[0m\u001b[1;33m\u001b[0m\u001b[0m\n\u001b[0;32m    520\u001b[0m                 \u001b[0mself\u001b[0m\u001b[1;33m.\u001b[0m\u001b[0m_reset\u001b[0m\u001b[1;33m(\u001b[0m\u001b[1;33m)\u001b[0m\u001b[1;33m\u001b[0m\u001b[1;33m\u001b[0m\u001b[0m\n\u001b[1;32m--> 521\u001b[1;33m             \u001b[0mdata\u001b[0m \u001b[1;33m=\u001b[0m \u001b[0mself\u001b[0m\u001b[1;33m.\u001b[0m\u001b[0m_next_data\u001b[0m\u001b[1;33m(\u001b[0m\u001b[1;33m)\u001b[0m\u001b[1;33m\u001b[0m\u001b[1;33m\u001b[0m\u001b[0m\n\u001b[0m\u001b[0;32m    522\u001b[0m             \u001b[0mself\u001b[0m\u001b[1;33m.\u001b[0m\u001b[0m_num_yielded\u001b[0m \u001b[1;33m+=\u001b[0m \u001b[1;36m1\u001b[0m\u001b[1;33m\u001b[0m\u001b[1;33m\u001b[0m\u001b[0m\n\u001b[0;32m    523\u001b[0m             \u001b[1;32mif\u001b[0m \u001b[0mself\u001b[0m\u001b[1;33m.\u001b[0m\u001b[0m_dataset_kind\u001b[0m \u001b[1;33m==\u001b[0m \u001b[0m_DatasetKind\u001b[0m\u001b[1;33m.\u001b[0m\u001b[0mIterable\u001b[0m \u001b[1;32mand\u001b[0m\u001b[0;31m \u001b[0m\u001b[0;31m\\\u001b[0m\u001b[1;33m\u001b[0m\u001b[1;33m\u001b[0m\u001b[0m\n",
      "\u001b[1;32m~\\anaconda3\\envs\\SETI_CNN\\lib\\site-packages\\torch\\utils\\data\\dataloader.py\u001b[0m in \u001b[0;36m_next_data\u001b[1;34m(self)\u001b[0m\n\u001b[0;32m    559\u001b[0m     \u001b[1;32mdef\u001b[0m \u001b[0m_next_data\u001b[0m\u001b[1;33m(\u001b[0m\u001b[0mself\u001b[0m\u001b[1;33m)\u001b[0m\u001b[1;33m:\u001b[0m\u001b[1;33m\u001b[0m\u001b[1;33m\u001b[0m\u001b[0m\n\u001b[0;32m    560\u001b[0m         \u001b[0mindex\u001b[0m \u001b[1;33m=\u001b[0m \u001b[0mself\u001b[0m\u001b[1;33m.\u001b[0m\u001b[0m_next_index\u001b[0m\u001b[1;33m(\u001b[0m\u001b[1;33m)\u001b[0m  \u001b[1;31m# may raise StopIteration\u001b[0m\u001b[1;33m\u001b[0m\u001b[1;33m\u001b[0m\u001b[0m\n\u001b[1;32m--> 561\u001b[1;33m         \u001b[0mdata\u001b[0m \u001b[1;33m=\u001b[0m \u001b[0mself\u001b[0m\u001b[1;33m.\u001b[0m\u001b[0m_dataset_fetcher\u001b[0m\u001b[1;33m.\u001b[0m\u001b[0mfetch\u001b[0m\u001b[1;33m(\u001b[0m\u001b[0mindex\u001b[0m\u001b[1;33m)\u001b[0m  \u001b[1;31m# may raise StopIteration\u001b[0m\u001b[1;33m\u001b[0m\u001b[1;33m\u001b[0m\u001b[0m\n\u001b[0m\u001b[0;32m    562\u001b[0m         \u001b[1;32mif\u001b[0m \u001b[0mself\u001b[0m\u001b[1;33m.\u001b[0m\u001b[0m_pin_memory\u001b[0m\u001b[1;33m:\u001b[0m\u001b[1;33m\u001b[0m\u001b[1;33m\u001b[0m\u001b[0m\n\u001b[0;32m    563\u001b[0m             \u001b[0mdata\u001b[0m \u001b[1;33m=\u001b[0m \u001b[0m_utils\u001b[0m\u001b[1;33m.\u001b[0m\u001b[0mpin_memory\u001b[0m\u001b[1;33m.\u001b[0m\u001b[0mpin_memory\u001b[0m\u001b[1;33m(\u001b[0m\u001b[0mdata\u001b[0m\u001b[1;33m)\u001b[0m\u001b[1;33m\u001b[0m\u001b[1;33m\u001b[0m\u001b[0m\n",
      "\u001b[1;32m~\\anaconda3\\envs\\SETI_CNN\\lib\\site-packages\\torch\\utils\\data\\_utils\\fetch.py\u001b[0m in \u001b[0;36mfetch\u001b[1;34m(self, possibly_batched_index)\u001b[0m\n\u001b[0;32m     47\u001b[0m     \u001b[1;32mdef\u001b[0m \u001b[0mfetch\u001b[0m\u001b[1;33m(\u001b[0m\u001b[0mself\u001b[0m\u001b[1;33m,\u001b[0m \u001b[0mpossibly_batched_index\u001b[0m\u001b[1;33m)\u001b[0m\u001b[1;33m:\u001b[0m\u001b[1;33m\u001b[0m\u001b[1;33m\u001b[0m\u001b[0m\n\u001b[0;32m     48\u001b[0m         \u001b[1;32mif\u001b[0m \u001b[0mself\u001b[0m\u001b[1;33m.\u001b[0m\u001b[0mauto_collation\u001b[0m\u001b[1;33m:\u001b[0m\u001b[1;33m\u001b[0m\u001b[1;33m\u001b[0m\u001b[0m\n\u001b[1;32m---> 49\u001b[1;33m             \u001b[0mdata\u001b[0m \u001b[1;33m=\u001b[0m \u001b[1;33m[\u001b[0m\u001b[0mself\u001b[0m\u001b[1;33m.\u001b[0m\u001b[0mdataset\u001b[0m\u001b[1;33m[\u001b[0m\u001b[0midx\u001b[0m\u001b[1;33m]\u001b[0m \u001b[1;32mfor\u001b[0m \u001b[0midx\u001b[0m \u001b[1;32min\u001b[0m \u001b[0mpossibly_batched_index\u001b[0m\u001b[1;33m]\u001b[0m\u001b[1;33m\u001b[0m\u001b[1;33m\u001b[0m\u001b[0m\n\u001b[0m\u001b[0;32m     50\u001b[0m         \u001b[1;32melse\u001b[0m\u001b[1;33m:\u001b[0m\u001b[1;33m\u001b[0m\u001b[1;33m\u001b[0m\u001b[0m\n\u001b[0;32m     51\u001b[0m             \u001b[0mdata\u001b[0m \u001b[1;33m=\u001b[0m \u001b[0mself\u001b[0m\u001b[1;33m.\u001b[0m\u001b[0mdataset\u001b[0m\u001b[1;33m[\u001b[0m\u001b[0mpossibly_batched_index\u001b[0m\u001b[1;33m]\u001b[0m\u001b[1;33m\u001b[0m\u001b[1;33m\u001b[0m\u001b[0m\n",
      "\u001b[1;32m~\\anaconda3\\envs\\SETI_CNN\\lib\\site-packages\\torch\\utils\\data\\_utils\\fetch.py\u001b[0m in \u001b[0;36m<listcomp>\u001b[1;34m(.0)\u001b[0m\n\u001b[0;32m     47\u001b[0m     \u001b[1;32mdef\u001b[0m \u001b[0mfetch\u001b[0m\u001b[1;33m(\u001b[0m\u001b[0mself\u001b[0m\u001b[1;33m,\u001b[0m \u001b[0mpossibly_batched_index\u001b[0m\u001b[1;33m)\u001b[0m\u001b[1;33m:\u001b[0m\u001b[1;33m\u001b[0m\u001b[1;33m\u001b[0m\u001b[0m\n\u001b[0;32m     48\u001b[0m         \u001b[1;32mif\u001b[0m \u001b[0mself\u001b[0m\u001b[1;33m.\u001b[0m\u001b[0mauto_collation\u001b[0m\u001b[1;33m:\u001b[0m\u001b[1;33m\u001b[0m\u001b[1;33m\u001b[0m\u001b[0m\n\u001b[1;32m---> 49\u001b[1;33m             \u001b[0mdata\u001b[0m \u001b[1;33m=\u001b[0m \u001b[1;33m[\u001b[0m\u001b[0mself\u001b[0m\u001b[1;33m.\u001b[0m\u001b[0mdataset\u001b[0m\u001b[1;33m[\u001b[0m\u001b[0midx\u001b[0m\u001b[1;33m]\u001b[0m \u001b[1;32mfor\u001b[0m \u001b[0midx\u001b[0m \u001b[1;32min\u001b[0m \u001b[0mpossibly_batched_index\u001b[0m\u001b[1;33m]\u001b[0m\u001b[1;33m\u001b[0m\u001b[1;33m\u001b[0m\u001b[0m\n\u001b[0m\u001b[0;32m     50\u001b[0m         \u001b[1;32melse\u001b[0m\u001b[1;33m:\u001b[0m\u001b[1;33m\u001b[0m\u001b[1;33m\u001b[0m\u001b[0m\n\u001b[0;32m     51\u001b[0m             \u001b[0mdata\u001b[0m \u001b[1;33m=\u001b[0m \u001b[0mself\u001b[0m\u001b[1;33m.\u001b[0m\u001b[0mdataset\u001b[0m\u001b[1;33m[\u001b[0m\u001b[0mpossibly_batched_index\u001b[0m\u001b[1;33m]\u001b[0m\u001b[1;33m\u001b[0m\u001b[1;33m\u001b[0m\u001b[0m\n",
      "\u001b[1;32m<ipython-input-25-2a4fb347636d>\u001b[0m in \u001b[0;36m__getitem__\u001b[1;34m(self, idx)\u001b[0m\n\u001b[0;32m     12\u001b[0m         \u001b[1;32mdef\u001b[0m \u001b[0m__getitem__\u001b[0m\u001b[1;33m(\u001b[0m\u001b[0mself\u001b[0m\u001b[1;33m,\u001b[0m \u001b[0midx\u001b[0m\u001b[1;33m)\u001b[0m\u001b[1;33m:\u001b[0m\u001b[1;33m\u001b[0m\u001b[1;33m\u001b[0m\u001b[0m\n\u001b[0;32m     13\u001b[0m                 \u001b[0mfile_path\u001b[0m \u001b[1;33m=\u001b[0m \u001b[0mself\u001b[0m\u001b[1;33m.\u001b[0m\u001b[0mfile_names\u001b[0m\u001b[1;33m[\u001b[0m\u001b[0midx\u001b[0m\u001b[1;33m]\u001b[0m\u001b[1;33m\u001b[0m\u001b[1;33m\u001b[0m\u001b[0m\n\u001b[1;32m---> 14\u001b[1;33m                 \u001b[0mimage\u001b[0m \u001b[1;33m=\u001b[0m \u001b[0mnp\u001b[0m\u001b[1;33m.\u001b[0m\u001b[0mload\u001b[0m\u001b[1;33m(\u001b[0m\u001b[0mfile_path\u001b[0m\u001b[1;33m)\u001b[0m\u001b[1;33m\u001b[0m\u001b[1;33m\u001b[0m\u001b[0m\n\u001b[0m\u001b[0;32m     15\u001b[0m                 \u001b[0mimage\u001b[0m \u001b[1;33m=\u001b[0m \u001b[0mimage\u001b[0m\u001b[1;33m.\u001b[0m\u001b[0mastype\u001b[0m\u001b[1;33m(\u001b[0m\u001b[0mnp\u001b[0m\u001b[1;33m.\u001b[0m\u001b[0mfloat32\u001b[0m\u001b[1;33m)\u001b[0m\u001b[1;33m\u001b[0m\u001b[1;33m\u001b[0m\u001b[0m\n\u001b[0;32m     16\u001b[0m                 \u001b[0mimage\u001b[0m \u001b[1;33m=\u001b[0m \u001b[0mnp\u001b[0m\u001b[1;33m.\u001b[0m\u001b[0mvstack\u001b[0m\u001b[1;33m(\u001b[0m\u001b[0mimage\u001b[0m\u001b[1;33m)\u001b[0m\u001b[1;33m.\u001b[0m\u001b[0mT\u001b[0m\u001b[1;33m\u001b[0m\u001b[1;33m\u001b[0m\u001b[0m\n",
      "\u001b[1;32m~\\anaconda3\\envs\\SETI_CNN\\lib\\site-packages\\numpy\\lib\\npyio.py\u001b[0m in \u001b[0;36mload\u001b[1;34m(file, mmap_mode, allow_pickle, fix_imports, encoding)\u001b[0m\n\u001b[0;32m    422\u001b[0m         \u001b[0m_ZIP_SUFFIX\u001b[0m \u001b[1;33m=\u001b[0m \u001b[1;34mb'PK\\x05\\x06'\u001b[0m \u001b[1;31m# empty zip files start with this\u001b[0m\u001b[1;33m\u001b[0m\u001b[1;33m\u001b[0m\u001b[0m\n\u001b[0;32m    423\u001b[0m         \u001b[0mN\u001b[0m \u001b[1;33m=\u001b[0m \u001b[0mlen\u001b[0m\u001b[1;33m(\u001b[0m\u001b[0mformat\u001b[0m\u001b[1;33m.\u001b[0m\u001b[0mMAGIC_PREFIX\u001b[0m\u001b[1;33m)\u001b[0m\u001b[1;33m\u001b[0m\u001b[1;33m\u001b[0m\u001b[0m\n\u001b[1;32m--> 424\u001b[1;33m         \u001b[0mmagic\u001b[0m \u001b[1;33m=\u001b[0m \u001b[0mfid\u001b[0m\u001b[1;33m.\u001b[0m\u001b[0mread\u001b[0m\u001b[1;33m(\u001b[0m\u001b[0mN\u001b[0m\u001b[1;33m)\u001b[0m\u001b[1;33m\u001b[0m\u001b[1;33m\u001b[0m\u001b[0m\n\u001b[0m\u001b[0;32m    425\u001b[0m         \u001b[1;31m# If the file size is less than N, we need to make sure not\u001b[0m\u001b[1;33m\u001b[0m\u001b[1;33m\u001b[0m\u001b[1;33m\u001b[0m\u001b[0m\n\u001b[0;32m    426\u001b[0m         \u001b[1;31m# to seek past the beginning of the file\u001b[0m\u001b[1;33m\u001b[0m\u001b[1;33m\u001b[0m\u001b[1;33m\u001b[0m\u001b[0m\n",
      "\u001b[1;31mKeyboardInterrupt\u001b[0m: "
     ]
    }
   ],
   "source": [
    "df_train = pd.read_csv(conf_dict[\"input_dir\"] + conf_dict[\"train_csv\"])\n",
    "if not conf_dict[\"use_all\"]:\n",
    "    df_train = df_train[:conf_dict[\"only_use\"]]\n",
    "df_train[\"file_path\"] = df_train[\"id\"].apply(get_file_path, directory=conf_dict[\"train_dir\"])\n",
    "\n",
    "loss_fn = nn.BCEWithLogitsLoss()\n",
    "num_epochs = conf_dict[\"epochs\"]\n",
    "num_folds = conf_dict[\"folds\"]\n",
    "skf = StratifiedKFold(n_splits=num_folds)\n",
    "\n",
    "with codecs.open('logs/schnaufNet2.0 train.log', 'a') as up:\n",
    "    up.write(\"------------------ new training ------------------\")\n",
    "with codecs.open('logs/schnaufNet2.0 validation.log', 'a') as up:\n",
    "    up.write(\"------------------ new validation ------------------\")\n",
    "\n",
    "for fold, (train_index, val_index) in enumerate(skf.split(df_train, df_train[\"target\"])):\n",
    "    model = EfficientNetBackbone(out_dim=1, load_schnaufnet_model=conf_dict[\"load_model\"])\n",
    "    model.to(device)\n",
    "    optimizer = torch.optim.Adam(model.parameters(), lr=conf_dict[\"learn_rate\"], weight_decay=conf_dict[\"weight_decay\"]) # torch.optim.SGD(model.parameters(), lr=conf_dict[\"learn_rate\"]) \n",
    "    scheduler = torch.optim.lr_scheduler.CosineAnnealingLR(\n",
    "        optimizer, T_max=conf_dict[\"epochs\"], eta_min=conf_dict[\"min_learn_rate\"], last_epoch=-1\n",
    "    )\n",
    "    best_roc_auc = 0\n",
    "    best_roc_auc_fold = 1\n",
    "    best_roc_auc_fold_epoch = 1\n",
    "    epoch_train_loss_list = []\n",
    "    for epoch in range(num_epochs):\n",
    "        print(f\"Fold {fold + 1}/{num_folds} | Epoch {epoch + 1}/{num_epochs}\\n-------------------------------\")\n",
    "        if epoch == math.floor(num_epochs * conf_dict[\"split_until_ratio\"]):\n",
    "            print(f\"Using {new_split_behaviour} behaviour\")\n",
    "            train_dataloader, val_dataloader = split(train_index, val_index, behaviour=new_split_behaviour)\n",
    "        else:\n",
    "            print(f\"Using {current_split_behaviour} behaviour\")\n",
    "            train_dataloader, val_dataloader = split(train_index, val_index, behaviour=current_split_behaviour)\n",
    "        train_loop(model, train_dataloader, optimizer, loss_fn, scheduler, epoch_train_loss_list)\n",
    "        val_labels, val_predictions = validation_loop(model, val_dataloader, loss_fn)\n",
    "        roc_auc = metrics.roc_auc_score(val_labels, val_predictions)\n",
    "        print(f\"Val ROC AUC Score: {roc_auc}\")\n",
    "        with codecs.open('logs/schnaufNet2.0 validation.log', 'a') as up:\n",
    "            up.write(f\"\"\"\n",
    "                Epoch={epoch}, Valid ROC AUC={roc_auc}\\n\n",
    "            \"\"\")\n",
    "        if roc_auc > best_roc_auc:\n",
    "            torch.save(model.state_dict(), \"best_roc_auc_\" + conf_dict[\"model\"] + \"-\" + str(fold) + \"-\" + str(epoch) + \".pth\")\n",
    "            best_roc_auc = roc_auc\n",
    "            best_roc_auc_fold = fold\n",
    "            best_roc_auc_epoch = epoch\n",
    "        plt.plot(epoch_train_loss_list, \"ro-\")\n",
    "        plt.title(\"Loss over epochs\")\n",
    "        plt.xlabel(\"Epoch\")\n",
    "        plt.ylabel(\"Loss\")\n",
    "        plt.show()\n",
    "print(f\"Training done! Best model in fold {best_roc_auc_fold}, epoch {best_roc_auc_epoch} with roc_auc of {best_roc_auc}\")"
   ]
  }
 ],
 "metadata": {
  "interpreter": {
   "hash": "cd13562b0d53cf8f16620a562c29f3801c7294b99be841c5d9655a8ee4126191"
  },
  "kernelspec": {
   "display_name": "Python 3.9.5 64-bit ('seti': conda)",
   "language": "python",
   "name": "python3"
  },
  "language_info": {
   "codemirror_mode": {
    "name": "ipython",
    "version": 3
   },
   "file_extension": ".py",
   "mimetype": "text/x-python",
   "name": "python",
   "nbconvert_exporter": "python",
   "pygments_lexer": "ipython3",
   "version": "3.8.12"
  },
  "orig_nbformat": 4
 },
 "nbformat": 4,
 "nbformat_minor": 2
}
