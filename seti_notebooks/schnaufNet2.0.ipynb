{
 "cells": [
  {
   "cell_type": "code",
   "execution_count": 1,
   "metadata": {},
   "outputs": [],
   "source": [
    "import numpy as np\n",
    "import math\n",
    "import matplotlib.pyplot as plt\n",
    "import pandas as pd\n",
    "from tqdm import tqdm\n",
    "import torch\n",
    "import random\n",
    "import os\n",
    "from torch.utils.data import Dataset, DataLoader, Subset\n",
    "from torch import nn\n",
    "# import albumentations as A\n",
    "# from albumentations.pytorch import ToTensorV2\n",
    "from torch.utils.data.sampler import SubsetRandomSampler, WeightedRandomSampler\n",
    "from ignite.metrics import Recall, Precision, Accuracy\n",
    "from sklearn import metrics\n",
    "import codecs\n",
    "from efficientnet_pytorch import model as enet\n",
    "from sklearn.model_selection import StratifiedKFold\n",
    "from sklearn.linear_model import LogisticRegression"
   ]
  },
  {
   "cell_type": "code",
   "execution_count": 2,
   "metadata": {},
   "outputs": [],
   "source": [
    "torch.cuda.empty_cache()"
   ]
  },
  {
   "cell_type": "markdown",
   "metadata": {},
   "source": [
    "### Config"
   ]
  },
  {
   "cell_type": "code",
   "execution_count": 3,
   "metadata": {},
   "outputs": [
    {
     "name": "stdout",
     "output_type": "stream",
     "text": [
      "Using cuda device\n"
     ]
    }
   ],
   "source": [
    "conf_dict = {\n",
    "    \"batch_size\": 8,\n",
    "    \"learn_rate\": 1e-3,\n",
    "    \"min_learn_rate\": 1e-6,\n",
    "    \"weight_decay\": 1e-4,\n",
    "    \"epochs\": 10,\n",
    "\n",
    "    \"transfer_model_name\": \"efficientnet-b1\",\n",
    "    \"use_backbone\": True,\n",
    "\n",
    "    \"input_dir\": \"../input/seti-breakthrough-listen/\",\n",
    "    \"train_dir\": \"../input/seti-breakthrough-listen/train/\",\n",
    "    \"train_csv\": \"train_labels.csv\",\n",
    "    \"test_dir\": \"../input/seti-breakthrough-listen/test/\",\n",
    "    \"test_csv\": \"sample_submission.csv\",\n",
    "    \"efficientnetdir\": \"../input/efficientnetpytorch/\",\n",
    "    \"height\": 512,\n",
    "    \"width\": 512,\n",
    "\n",
    "    \"model\": \"schnaufnet_trained\",\n",
    "    \"model_to_load\": \"schnaufnet_trained.pth\",\n",
    "\n",
    "    \"origin_height\": 273,\n",
    "    \"origin_width\": 256,\n",
    "\n",
    "    \"only_use\": 1000,\n",
    "    \"behaviours\": {\n",
    "        \"all\": \"all\",\n",
    "        \"weighted\": \"weighted\",\n",
    "    },\n",
    "    \"use_all\": True,\n",
    "    \"split_until_ratio\": (3 / 4),\n",
    "    \"load_model\": False,\n",
    "}\n",
    "current_split_behaviour = conf_dict[\"behaviours\"][\"weighted\"]\n",
    "new_split_behaviour = conf_dict[\"behaviours\"][\"all\"]\n",
    "\n",
    "device = 'cuda' if torch.cuda.is_available() else 'cpu'\n",
    "print(f'Using {device} device')"
   ]
  },
  {
   "cell_type": "code",
   "execution_count": 4,
   "metadata": {},
   "outputs": [],
   "source": [
    "def set_seed(seed = 0):\n",
    "    '''Sets the seed of the entire notebook so results are the same every time we run.\n",
    "    This is for REPRODUCIBILITY.'''\n",
    "    np.random.seed(seed)\n",
    "    random_state = np.random.RandomState(seed)\n",
    "    random.seed(seed)\n",
    "    torch.manual_seed(seed)\n",
    "    torch.cuda.manual_seed(seed)\n",
    "    torch.backends.cudnn.deterministic = True\n",
    "    torch.backends.cudnn.benchmark = False\n",
    "    os.environ['PYTHONHASHSEED'] = str(seed)\n",
    "    return random_state\n",
    "\n",
    "random_state = set_seed(2021)"
   ]
  },
  {
   "cell_type": "markdown",
   "metadata": {},
   "source": [
    "### Custom Dataset"
   ]
  },
  {
   "cell_type": "code",
   "execution_count": 5,
   "metadata": {},
   "outputs": [],
   "source": [
    "class SETIDataset(Dataset):\n",
    "\t\"\"\"Dataset for training data\"\"\"\n",
    "\tdef __init__(self, df, transform=None, use_cv_preprocessing=False):\n",
    "\t\tself.df = df\n",
    "\t\tself.labels = self.df[\"target\"].values\n",
    "\t\tself.file_names = self.df['file_path'].values\n",
    "\t\tself.transform = transform\n",
    "\t\t# self.use_cv_preprocessing = use_cv_preprocessing\n",
    "\n",
    "\tdef __len__(self):\n",
    "\t\treturn len(self.df)\n",
    "\n",
    "\t\t# testing with single batch - for example with 1k epochs\n",
    "\t\t# return conf_dict[\"batch_size\"]\n",
    "\n",
    "\tdef __getitem__(self, idx):\n",
    "\t\tfile_path = self.file_names[idx]\n",
    "\t\timage = np.load(file_path)\n",
    "\t\timage = image.astype(np.float32)\n",
    "\n",
    "\t\t# if self.use_cv_preprocessing:\n",
    "\t\t# \tcadence = Cadence(file_path)\n",
    "\t\t# \tcadence.cv()\n",
    "\n",
    "\t\t# image = np.vstack(image).T\n",
    "\n",
    "\t\t# if self.transform:\n",
    "\t\t# \timage = self.transform(image=image)['image']\n",
    "\t\t# else:\n",
    "\t\t# \timage = image[np.newaxis,:,:] # add dimension\n",
    "\t\t# \timage = torch.from_numpy(image).float()\n",
    "\n",
    "\t\tlabel = torch.tensor(self.labels[idx]).float()\n",
    "\n",
    "\t\t# image = image.repeat(3, 1, 1) # TODO: probably just repeating the single channel isnt the best way => probably converting grayscale to rgb is better\n",
    "\n",
    "\t\treturn image, label\n",
    "\n"
   ]
  },
  {
   "cell_type": "code",
   "execution_count": 6,
   "metadata": {},
   "outputs": [],
   "source": [
    "class EfficientNetBackbone(nn.Module):\n",
    "    def __init__(self, out_dim, backbone=None, load_schnaufnet_model=False):\n",
    "        super(EfficientNetBackbone, self).__init__()\n",
    "        print(\"Initializing Efficientnet Backbone\")\n",
    "        model_name = conf_dict[\"transfer_model_name\"]\n",
    "        self.enet = enet.EfficientNet.from_name(model_name)\n",
    "        if not load_schnaufnet_model:\n",
    "            print(\"Loading pretrained efficientnet model\")\n",
    "            pretrained_model = {\n",
    "                model_name: conf_dict[\"efficientnetdir\"] + 'efficientnet-b1-dbc7070a.pth'\n",
    "            }\n",
    "            self.enet.load_state_dict(torch.load(pretrained_model[model_name]))\n",
    "        else:\n",
    "            print(\"Loading pretrained schnaufnet model\")\n",
    "            model.load_state_dict(torch.load(conf_dict[\"model_to_load\"]))\n",
    "        self.myfc = nn.Linear(self.enet._fc.in_features, out_dim)\n",
    "        self.enet._fc = nn.Identity()\n",
    "        self.conv1 = nn.Conv2d(6, 3, kernel_size=3, stride=1, padding=3, bias=False)\n",
    "\n",
    "    def extract(self, x):\n",
    "        return self.enet(x)\n",
    "\n",
    "    def forward(self, x):\n",
    "        x = self.conv1(x)\n",
    "        x = self.extract(x)\n",
    "        x = self.myfc(x)\n",
    "        return x"
   ]
  },
  {
   "cell_type": "code",
   "execution_count": 7,
   "metadata": {},
   "outputs": [],
   "source": [
    "def split(train_index, val_index, behaviour=\"all\"):\n",
    "    train_df, val_df = df_train.iloc[train_index], df_train.iloc[val_index]\n",
    "    \n",
    "    dataset_train = SETIDataset(train_df, transform=get_transforms(data=\"train\"))#, use_cv_preprocessing_preprocessing=True)\n",
    "    dataset_val = SETIDataset(val_df, transform=get_transforms(data=\"val\"))#, use_cv_preprocessing=True) # extra dataset für validation, da validation data nicht transformiert werden darf\n",
    "\n",
    "    if behaviour == conf_dict[\"behaviours\"][\"weighted\"]:\n",
    "        print(\"Using 50/50 weighted data...\")\n",
    "        labels = np.array(dataset_train.labels)\n",
    "        class_counts = np.array(\n",
    "            [len(np.where(labels == t)[0]) for t in np.unique(labels)])\n",
    "        num_samples = sum(class_counts)\n",
    "        class_weights = [num_samples/class_counts[i] for i in range(len(class_counts))]\n",
    "        weights = [class_weights[labels[i]] for i in range(int(num_samples))]\n",
    "        sampler = WeightedRandomSampler(torch.DoubleTensor(weights), int(num_samples))\n",
    "        train_dataloader = DataLoader(\n",
    "            dataset_train, batch_size=conf_dict[\"batch_size\"], sampler=sampler)\n",
    "    elif behaviour == conf_dict[\"behaviours\"][\"all\"]:\n",
    "        print(\"Using original full data...\")\n",
    "        train_dataloader = DataLoader(dataset_train, batch_size=conf_dict[\"batch_size\"], shuffle=True)#, num_workers=2)\n",
    "    val_dataloader = DataLoader(dataset_val, batch_size=conf_dict[\"batch_size\"], shuffle=True)#, num_workers=2)\n",
    "    # get_0_1_ratio(train_dataloader, train=True)\n",
    "    # get_0_1_ratio(val_dataloader, train=True)\n",
    "\n",
    "    # image, label = next(iter(train_dataloader))\n",
    "    # print(\"Shape of image [N, C, H, W]: \", image.shape)\n",
    "    # print(\"Shape of label: \", label.shape, label.dtype)\n",
    "\n",
    "    print(f\"Successfully splitted dataset!\\n Trainbatches: {len(train_dataloader)}\\n Validationbatches: {len(val_dataloader)}\")\n",
    "\n",
    "    return train_dataloader, val_dataloader\n",
    "\n",
    "def get_0_1_batches_ratio(dataloader):\n",
    "    print(\"dataloader length: \", len(dataloader))\n",
    "    for i, (data, target) in enumerate(dataloader):\n",
    "        print (f\"batch index {i}, 0/1: {len(np.where(target.numpy() == 0)[0])}/{len(np.where(target.numpy() == 1)[0])}\")\n",
    "\n",
    "def get_0_1_ratio(dataloader, train):\n",
    "    dataloader_0 = 0\n",
    "    dataloader_1 = 0\n",
    "    for i, (data, target) in enumerate(dataloader):\n",
    "        dataloader_0 += len(np.where(target.numpy() == 0)[0])\n",
    "        dataloader_1 += len(np.where(target.numpy() == 1)[0])\n",
    "    dataloaderinformation = \"train\" if train else \"val\"\n",
    "    print(f\"{dataloaderinformation} dataloader 0/1 ratio: {dataloader_0}, {dataloader_1}\")"
   ]
  },
  {
   "cell_type": "code",
   "execution_count": 8,
   "metadata": {},
   "outputs": [],
   "source": [
    "def train_loop(model, train_dataloader, optimizer, loss_fn, scheduler):\n",
    "    print(\"Starting model training...\")\n",
    "    model.train()\n",
    "    epoch_loss = 0\n",
    "    epoch_loss_list = []\n",
    "    num_batches = len(train_dataloader)\n",
    "\n",
    "    accuracy = Accuracy()\n",
    "    precision = Precision()\n",
    "    recall = Recall()\n",
    "\n",
    "    for (images, labels) in tqdm(train_dataloader, position=0, leave=True, desc='Training'):\n",
    "        images = images.to(device, dtype=torch.float)\n",
    "        labels = labels.to(device, dtype=torch.float)\n",
    "\n",
    "        optimizer.zero_grad()\n",
    "        pred = model(images)\n",
    "        loss = loss_fn(pred.view(labels.size(0)), labels.to(torch.float32))\n",
    "        epoch_loss_list.append(loss.item())\n",
    "        epoch_loss += loss.item() # add loss for whole batch\n",
    "        loss.backward()\n",
    "        optimizer.step()\n",
    "        scheduler.step()\n",
    "        predicted = torch.sigmoid(pred).round() # if precision gets higher => write own function which does not seperate <0.5 and >=0.5 like round currently does\n",
    "        accuracy.update((predicted, labels))\n",
    "        precision.update((predicted, labels))\n",
    "        recall.update((predicted, labels))\n",
    "\n",
    "    avg_epoch_loss = epoch_loss / num_batches\n",
    "    print(f\"\"\"Training Error: \\n \n",
    "        Accuracy: {100*accuracy.compute():>2f}%, \\n\n",
    "        Recall: {100*recall.compute():>2f}%, \\n\n",
    "        Precision: {100*precision.compute():>2f}%, \\n\n",
    "        Avg loss: {avg_epoch_loss:>2f} \\n\n",
    "    \"\"\") # avg loss is summed losses for all batches divided with num batches\n",
    "    # print(f\"Epoch loss list: {epoch_loss_list}\")\n",
    "    with codecs.open('logs/schnaufNet2.0 train.log', 'a') as up:\n",
    "        up.write(f\"\"\"Validation Error: \\n\n",
    "            Accuracy: {100*accuracy.compute():2f}%, \\n\n",
    "            Recall: {100*recall.compute():2f}%, \\n\n",
    "            Precision: {100*precision.compute():>2f}%, \\n\n",
    "            Avg loss: {avg_epoch_loss:>2f} \\n\n",
    "        \"\"\")\n",
    "    plt.plot(epoch_loss_list, \"ro-\")\n",
    "    plt.title(\"Loss over epoch\")\n",
    "    plt.xlabel(\"Batch\")\n",
    "    plt.ylabel(\"Loss\")\n",
    "    plt.show()\n",
    "\n",
    "def validation_loop(model, val_dataloader, loss_fn):\n",
    "    print(\"Starting model validation...\")\n",
    "    model.eval()\n",
    "\n",
    "    epoch_loss = 0\n",
    "    num_batches = len(val_dataloader)\n",
    "    epoch_labels = []\n",
    "    epoch_preds = []\n",
    "\n",
    "    accuracy = Accuracy()\n",
    "    precision = Precision()\n",
    "    recall = Recall()\n",
    "\n",
    "    with torch.no_grad():\n",
    "        for (images, labels) in tqdm(val_dataloader, position=0, leave=True, desc='Evaluating'):\n",
    "            images = images.to(device)\n",
    "            labels = labels.to(device)\n",
    "\n",
    "            pred = model(images)\n",
    "            loss = loss_fn(pred.view(labels.size(0)), labels.to(torch.float32))\n",
    "            epoch_loss += loss.item()\n",
    "            predicted = torch.sigmoid(pred).round()\n",
    "            accuracy.update((predicted, labels))\n",
    "            precision.update((predicted, labels))\n",
    "            recall.update((predicted, labels))\n",
    "            \n",
    "            predicted = torch.sigmoid(pred)\n",
    "            labels = labels.detach().cpu().numpy().tolist()\n",
    "            predicted = predicted.detach().cpu().numpy().tolist()\n",
    "            epoch_labels.extend(labels)\n",
    "            epoch_preds.extend(predicted)\n",
    "\n",
    "    avg_epoch_loss = epoch_loss / num_batches\n",
    "    print(f\"\"\"Validation Error: \\n\n",
    "        Accuracy: {100*accuracy.compute():2f}%, \\n\n",
    "        Recall: {100*recall.compute():2f}%, \\n\n",
    "        Precision: {100*precision.compute():>2f}%, \\n\n",
    "        Avg loss: {avg_epoch_loss:>2f} \\n\n",
    "    \"\"\")\n",
    "    with codecs.open('logs/schnaufNet2.0 validation.log', 'a') as up:\n",
    "        up.write(f\"\"\"Validation Error: \\n\n",
    "            Accuracy: {100*accuracy.compute():2f}%, \\n\n",
    "            Recall: {100*recall.compute():2f}%, \\n\n",
    "            Precision: {100*precision.compute():>2f}%, \\n\n",
    "            Avg loss: {avg_epoch_loss:>2f} \\n\n",
    "        \"\"\")\n",
    "    return epoch_labels, epoch_preds"
   ]
  },
  {
   "cell_type": "code",
   "execution_count": 9,
   "metadata": {},
   "outputs": [],
   "source": [
    "def get_transforms(data):\n",
    "    pass\n",
    "    # if data == 'train':\n",
    "    #     return A.Compose([\n",
    "    #         # A.Resize(conf_dict[\"height\"], conf_dict[\"width\"]),\n",
    "    #         A.VerticalFlip(p=0.5),\n",
    "    #         A.HorizontalFlip(p=0.5),\n",
    "    #         ToTensorV2(),\n",
    "    #     ])\n",
    "    # elif data == 'val' or data == 'test':\n",
    "    #     return A.Compose([\n",
    "    #         # A.Resize(conf_dict[\"height\"], conf_dict[\"width\"]),\n",
    "    #         ToTensorV2(),\n",
    "    #     ])\n",
    "\n",
    "def get_file_path(target, directory):\n",
    "    return directory + \"{}/{}.npy\".format(target[0], target)"
   ]
  },
  {
   "cell_type": "code",
   "execution_count": 10,
   "metadata": {},
   "outputs": [
    {
     "name": "stdout",
     "output_type": "stream",
     "text": [
      "Initializing Efficientnet Backbone\n",
      "Loading pretrained efficientnet model\n",
      "+++ Fold 0 +++\n",
      "Using 50/50 weighted data...\n",
      "Successfully splitted dataset!\n",
      " Trainbatches: 10\n",
      " Validationbatches: 3\n",
      "Epoch 1/2\n",
      "-------------------------------\n",
      "Starting model training...\n"
     ]
    },
    {
     "name": "stderr",
     "output_type": "stream",
     "text": [
      "Training: 100%|██████████| 10/10 [00:04<00:00,  2.05it/s]"
     ]
    },
    {
     "name": "stdout",
     "output_type": "stream",
     "text": [
      "Training Error: \n",
      " \n",
      "        Accuracy: 72.500000%, \n",
      "\n",
      "        Recall: 82.222222%, \n",
      "\n",
      "        Precision: 72.549020%, \n",
      "\n",
      "        Avg loss: 0.584757 \n",
      "\n",
      "    \n"
     ]
    },
    {
     "name": "stderr",
     "output_type": "stream",
     "text": [
      "\n"
     ]
    },
    {
     "data": {
      "image/png": "[encoded data removed]",
      "text/plain": [
       "<Figure size 432x288 with 1 Axes>"
      ]
     },
     "metadata": {
      "needs_background": "light"
     },
     "output_type": "display_data"
    },
    {
     "name": "stdout",
     "output_type": "stream",
     "text": [
      "Starting model validation...\n"
     ]
    },
    {
     "name": "stderr",
     "output_type": "stream",
     "text": [
      "Evaluating: 100%|██████████| 3/3 [00:00<00:00, 14.29it/s]\n"
     ]
    },
    {
     "name": "stdout",
     "output_type": "stream",
     "text": [
      "Validation Error: \n",
      "\n",
      "        Accuracy: 80.000000%, \n",
      "\n",
      "        Recall: 0.000000%, \n",
      "\n",
      "        Precision: 0.000000%, \n",
      "\n",
      "        Avg loss: 0.542136 \n",
      "\n",
      "    \n",
      "Val ROC AUC Score: 0.368421052631579\n",
      "Epoch 2/2\n",
      "-------------------------------\n",
      "!!! Changing train and validation data from weighted behaviour to all behaviour !!!\n",
      "Using original full data...\n",
      "Successfully splitted dataset!\n",
      " Trainbatches: 10\n",
      " Validationbatches: 3\n",
      "Starting model training...\n"
     ]
    },
    {
     "name": "stderr",
     "output_type": "stream",
     "text": [
      "Training: 100%|██████████| 10/10 [00:02<00:00,  4.03it/s]"
     ]
    },
    {
     "name": "stdout",
     "output_type": "stream",
     "text": [
      "Training Error: \n",
      " \n",
      "        Accuracy: 62.500000%, \n",
      "\n",
      "        Recall: 100.000000%, \n",
      "\n",
      "        Precision: 18.918919%, \n",
      "\n",
      "        Avg loss: 0.660211 \n",
      "\n",
      "    \n"
     ]
    },
    {
     "name": "stderr",
     "output_type": "stream",
     "text": [
      "\n"
     ]
    },
    {
     "data": {
      "image/png": "[encoded data removed]",
      "text/plain": [
       "<Figure size 432x288 with 1 Axes>"
      ]
     },
     "metadata": {
      "needs_background": "light"
     },
     "output_type": "display_data"
    },
    {
     "name": "stdout",
     "output_type": "stream",
     "text": [
      "Starting model validation...\n"
     ]
    },
    {
     "name": "stderr",
     "output_type": "stream",
     "text": [
      "Evaluating: 100%|██████████| 3/3 [00:00<00:00, 14.84it/s]\n"
     ]
    },
    {
     "name": "stdout",
     "output_type": "stream",
     "text": [
      "Validation Error: \n",
      "\n",
      "        Accuracy: 85.000000%, \n",
      "\n",
      "        Recall: 0.000000%, \n",
      "\n",
      "        Precision: 0.000000%, \n",
      "\n",
      "        Avg loss: 0.481215 \n",
      "\n",
      "    \n",
      "Val ROC AUC Score: 0.10526315789473684\n",
      "Training done! Saving model...\n",
      "Saved model!\n",
      "+++ Fold 1 +++\n",
      "Using 50/50 weighted data...\n",
      "Successfully splitted dataset!\n",
      " Trainbatches: 10\n",
      " Validationbatches: 3\n",
      "Epoch 1/2\n",
      "-------------------------------\n",
      "Starting model training...\n"
     ]
    },
    {
     "name": "stderr",
     "output_type": "stream",
     "text": [
      "Training: 100%|██████████| 10/10 [00:02<00:00,  4.11it/s]"
     ]
    },
    {
     "name": "stdout",
     "output_type": "stream",
     "text": [
      "Training Error: \n",
      " \n",
      "        Accuracy: 91.250000%, \n",
      "\n",
      "        Recall: 85.416667%, \n",
      "\n",
      "        Precision: 100.000000%, \n",
      "\n",
      "        Avg loss: 0.384679 \n",
      "\n",
      "    \n"
     ]
    },
    {
     "name": "stderr",
     "output_type": "stream",
     "text": [
      "\n"
     ]
    },
    {
     "data": {
      "image/png": "[encoded data removed]",
      "text/plain": [
       "<Figure size 432x288 with 1 Axes>"
      ]
     },
     "metadata": {
      "needs_background": "light"
     },
     "output_type": "display_data"
    },
    {
     "name": "stdout",
     "output_type": "stream",
     "text": [
      "Starting model validation...\n"
     ]
    },
    {
     "name": "stderr",
     "output_type": "stream",
     "text": [
      "Evaluating: 100%|██████████| 3/3 [00:00<00:00, 14.31it/s]\n"
     ]
    },
    {
     "name": "stdout",
     "output_type": "stream",
     "text": [
      "Validation Error: \n",
      "\n",
      "        Accuracy: 90.000000%, \n",
      "\n",
      "        Recall: 0.000000%, \n",
      "\n",
      "        Precision: 0.000000%, \n",
      "\n",
      "        Avg loss: 0.295667 \n",
      "\n",
      "    \n",
      "Val ROC AUC Score: 0.9473684210526316\n",
      "Epoch 2/2\n",
      "-------------------------------\n",
      "!!! Changing train and validation data from weighted behaviour to all behaviour !!!\n",
      "Using original full data...\n",
      "Successfully splitted dataset!\n",
      " Trainbatches: 10\n",
      " Validationbatches: 3\n",
      "Starting model training...\n"
     ]
    },
    {
     "name": "stderr",
     "output_type": "stream",
     "text": [
      "Training: 100%|██████████| 10/10 [00:02<00:00,  4.06it/s]"
     ]
    },
    {
     "name": "stdout",
     "output_type": "stream",
     "text": [
      "Training Error: \n",
      " \n",
      "        Accuracy: 87.500000%, \n",
      "\n",
      "        Recall: 100.000000%, \n",
      "\n",
      "        Precision: 41.176471%, \n",
      "\n",
      "        Avg loss: 0.397510 \n",
      "\n",
      "    \n"
     ]
    },
    {
     "name": "stderr",
     "output_type": "stream",
     "text": [
      "\n"
     ]
    },
    {
     "data": {
      "image/png": "[encoded data removed]",
      "text/plain": [
       "<Figure size 432x288 with 1 Axes>"
      ]
     },
     "metadata": {
      "needs_background": "light"
     },
     "output_type": "display_data"
    },
    {
     "name": "stdout",
     "output_type": "stream",
     "text": [
      "Starting model validation...\n"
     ]
    },
    {
     "name": "stderr",
     "output_type": "stream",
     "text": [
      "Evaluating: 100%|██████████| 3/3 [00:00<00:00, 15.27it/s]\n"
     ]
    },
    {
     "name": "stdout",
     "output_type": "stream",
     "text": [
      "Validation Error: \n",
      "\n",
      "        Accuracy: 90.000000%, \n",
      "\n",
      "        Recall: 0.000000%, \n",
      "\n",
      "        Precision: 0.000000%, \n",
      "\n",
      "        Avg loss: 0.280362 \n",
      "\n",
      "    \n",
      "Val ROC AUC Score: 0.9473684210526316\n",
      "Training done! Saving model...\n",
      "Saved model!\n",
      "+++ Fold 2 +++\n",
      "Using 50/50 weighted data...\n",
      "Successfully splitted dataset!\n",
      " Trainbatches: 10\n",
      " Validationbatches: 3\n",
      "Epoch 1/2\n",
      "-------------------------------\n",
      "Starting model training...\n"
     ]
    },
    {
     "name": "stderr",
     "output_type": "stream",
     "text": [
      "Training: 100%|██████████| 10/10 [00:02<00:00,  4.07it/s]"
     ]
    },
    {
     "name": "stdout",
     "output_type": "stream",
     "text": [
      "Training Error: \n",
      " \n",
      "        Accuracy: 96.250000%, \n",
      "\n",
      "        Recall: 94.736842%, \n",
      "\n",
      "        Precision: 97.297297%, \n",
      "\n",
      "        Avg loss: 0.220883 \n",
      "\n",
      "    \n"
     ]
    },
    {
     "name": "stderr",
     "output_type": "stream",
     "text": [
      "\n"
     ]
    },
    {
     "data": {
      "image/png": "[encoded data removed]",
      "text/plain": [
       "<Figure size 432x288 with 1 Axes>"
      ]
     },
     "metadata": {
      "needs_background": "light"
     },
     "output_type": "display_data"
    },
    {
     "name": "stdout",
     "output_type": "stream",
     "text": [
      "Starting model validation...\n"
     ]
    },
    {
     "name": "stderr",
     "output_type": "stream",
     "text": [
      "Evaluating: 100%|██████████| 3/3 [00:00<00:00, 14.54it/s]\n"
     ]
    },
    {
     "name": "stdout",
     "output_type": "stream",
     "text": [
      "Validation Error: \n",
      "\n",
      "        Accuracy: 100.000000%, \n",
      "\n",
      "        Recall: 100.000000%, \n",
      "\n",
      "        Precision: 100.000000%, \n",
      "\n",
      "        Avg loss: 0.158864 \n",
      "\n",
      "    \n",
      "Val ROC AUC Score: 1.0\n",
      "Epoch 2/2\n",
      "-------------------------------\n",
      "!!! Changing train and validation data from weighted behaviour to all behaviour !!!\n",
      "Using original full data...\n",
      "Successfully splitted dataset!\n",
      " Trainbatches: 10\n",
      " Validationbatches: 3\n",
      "Starting model training...\n"
     ]
    },
    {
     "name": "stderr",
     "output_type": "stream",
     "text": [
      "Training: 100%|██████████| 10/10 [00:02<00:00,  4.05it/s]"
     ]
    },
    {
     "name": "stdout",
     "output_type": "stream",
     "text": [
      "Training Error: \n",
      " \n",
      "        Accuracy: 92.500000%, \n",
      "\n",
      "        Recall: 100.000000%, \n",
      "\n",
      "        Precision: 50.000000%, \n",
      "\n",
      "        Avg loss: 0.237055 \n",
      "\n",
      "    \n"
     ]
    },
    {
     "name": "stderr",
     "output_type": "stream",
     "text": [
      "\n"
     ]
    },
    {
     "data": {
      "image/png": "[encoded data removed]",
      "text/plain": [
       "<Figure size 432x288 with 1 Axes>"
      ]
     },
     "metadata": {
      "needs_background": "light"
     },
     "output_type": "display_data"
    },
    {
     "name": "stdout",
     "output_type": "stream",
     "text": [
      "Starting model validation...\n"
     ]
    },
    {
     "name": "stderr",
     "output_type": "stream",
     "text": [
      "Evaluating: 100%|██████████| 3/3 [00:00<00:00, 14.28it/s]\n"
     ]
    },
    {
     "name": "stdout",
     "output_type": "stream",
     "text": [
      "Validation Error: \n",
      "\n",
      "        Accuracy: 95.000000%, \n",
      "\n",
      "        Recall: 50.000000%, \n",
      "\n",
      "        Precision: 100.000000%, \n",
      "\n",
      "        Avg loss: 0.270890 \n",
      "\n",
      "    \n",
      "Val ROC AUC Score: 0.9166666666666667\n",
      "Training done! Saving model...\n",
      "Saved model!\n",
      "+++ Fold 3 +++\n",
      "Using 50/50 weighted data...\n",
      "Successfully splitted dataset!\n",
      " Trainbatches: 10\n",
      " Validationbatches: 3\n",
      "Epoch 1/2\n",
      "-------------------------------\n",
      "Starting model training...\n"
     ]
    },
    {
     "name": "stderr",
     "output_type": "stream",
     "text": [
      "Training: 100%|██████████| 10/10 [00:02<00:00,  4.11it/s]"
     ]
    },
    {
     "name": "stdout",
     "output_type": "stream",
     "text": [
      "Training Error: \n",
      " \n",
      "        Accuracy: 91.250000%, \n",
      "\n",
      "        Recall: 83.720930%, \n",
      "\n",
      "        Precision: 100.000000%, \n",
      "\n",
      "        Avg loss: 0.174295 \n",
      "\n",
      "    \n"
     ]
    },
    {
     "name": "stderr",
     "output_type": "stream",
     "text": [
      "\n"
     ]
    },
    {
     "data": {
      "image/png": "[encoded data removed]",
      "text/plain": [
       "<Figure size 432x288 with 1 Axes>"
      ]
     },
     "metadata": {
      "needs_background": "light"
     },
     "output_type": "display_data"
    },
    {
     "name": "stdout",
     "output_type": "stream",
     "text": [
      "Starting model validation...\n"
     ]
    },
    {
     "name": "stderr",
     "output_type": "stream",
     "text": [
      "Evaluating: 100%|██████████| 3/3 [00:00<00:00, 14.85it/s]\n"
     ]
    },
    {
     "name": "stdout",
     "output_type": "stream",
     "text": [
      "Validation Error: \n",
      "\n",
      "        Accuracy: 90.000000%, \n",
      "\n",
      "        Recall: 0.000000%, \n",
      "\n",
      "        Precision: 0.000000%, \n",
      "\n",
      "        Avg loss: 0.219815 \n",
      "\n",
      "    \n",
      "Val ROC AUC Score: 0.8611111111111112\n",
      "Epoch 2/2\n",
      "-------------------------------\n",
      "!!! Changing train and validation data from weighted behaviour to all behaviour !!!\n",
      "Using original full data...\n",
      "Successfully splitted dataset!\n",
      " Trainbatches: 10\n",
      " Validationbatches: 3\n",
      "Starting model training...\n"
     ]
    },
    {
     "name": "stderr",
     "output_type": "stream",
     "text": [
      "Training: 100%|██████████| 10/10 [00:02<00:00,  4.04it/s]"
     ]
    },
    {
     "name": "stdout",
     "output_type": "stream",
     "text": [
      "Training Error: \n",
      " \n",
      "        Accuracy: 95.000000%, \n",
      "\n",
      "        Recall: 100.000000%, \n",
      "\n",
      "        Precision: 60.000000%, \n",
      "\n",
      "        Avg loss: 0.188848 \n",
      "\n",
      "    \n"
     ]
    },
    {
     "name": "stderr",
     "output_type": "stream",
     "text": [
      "\n"
     ]
    },
    {
     "data": {
      "image/png": "[encoded data removed]",
      "text/plain": [
       "<Figure size 432x288 with 1 Axes>"
      ]
     },
     "metadata": {
      "needs_background": "light"
     },
     "output_type": "display_data"
    },
    {
     "name": "stdout",
     "output_type": "stream",
     "text": [
      "Starting model validation...\n"
     ]
    },
    {
     "name": "stderr",
     "output_type": "stream",
     "text": [
      "Evaluating: 100%|██████████| 3/3 [00:00<00:00, 14.83it/s]\n"
     ]
    },
    {
     "name": "stdout",
     "output_type": "stream",
     "text": [
      "Validation Error: \n",
      "\n",
      "        Accuracy: 90.000000%, \n",
      "\n",
      "        Recall: 0.000000%, \n",
      "\n",
      "        Precision: 0.000000%, \n",
      "\n",
      "        Avg loss: 0.397499 \n",
      "\n",
      "    \n",
      "Val ROC AUC Score: 0.8611111111111112\n",
      "Training done! Saving model...\n",
      "Saved model!\n",
      "+++ Fold 4 +++\n",
      "Using 50/50 weighted data...\n",
      "Successfully splitted dataset!\n",
      " Trainbatches: 10\n",
      " Validationbatches: 3\n",
      "Epoch 1/2\n",
      "-------------------------------\n",
      "Starting model training...\n"
     ]
    },
    {
     "name": "stderr",
     "output_type": "stream",
     "text": [
      "Training: 100%|██████████| 10/10 [00:02<00:00,  4.10it/s]"
     ]
    },
    {
     "name": "stdout",
     "output_type": "stream",
     "text": [
      "Training Error: \n",
      " \n",
      "        Accuracy: 96.250000%, \n",
      "\n",
      "        Recall: 93.023256%, \n",
      "\n",
      "        Precision: 100.000000%, \n",
      "\n",
      "        Avg loss: 0.124058 \n",
      "\n",
      "    \n"
     ]
    },
    {
     "name": "stderr",
     "output_type": "stream",
     "text": [
      "\n"
     ]
    },
    {
     "data": {
      "image/png": "[encoded data removed]",
      "text/plain": [
       "<Figure size 432x288 with 1 Axes>"
      ]
     },
     "metadata": {
      "needs_background": "light"
     },
     "output_type": "display_data"
    },
    {
     "name": "stdout",
     "output_type": "stream",
     "text": [
      "Starting model validation...\n"
     ]
    },
    {
     "name": "stderr",
     "output_type": "stream",
     "text": [
      "Evaluating: 100%|██████████| 3/3 [00:00<00:00, 15.07it/s]\n"
     ]
    },
    {
     "name": "stdout",
     "output_type": "stream",
     "text": [
      "Validation Error: \n",
      "\n",
      "        Accuracy: 90.000000%, \n",
      "\n",
      "        Recall: 0.000000%, \n",
      "\n",
      "        Precision: 0.000000%, \n",
      "\n",
      "        Avg loss: 0.377913 \n",
      "\n",
      "    \n",
      "Val ROC AUC Score: 0.8888888888888888\n",
      "Epoch 2/2\n",
      "-------------------------------\n",
      "!!! Changing train and validation data from weighted behaviour to all behaviour !!!\n",
      "Using original full data...\n",
      "Successfully splitted dataset!\n",
      " Trainbatches: 10\n",
      " Validationbatches: 3\n",
      "Starting model training...\n"
     ]
    },
    {
     "name": "stderr",
     "output_type": "stream",
     "text": [
      "Training: 100%|██████████| 10/10 [00:02<00:00,  4.11it/s]"
     ]
    },
    {
     "name": "stdout",
     "output_type": "stream",
     "text": [
      "Training Error: \n",
      " \n",
      "        Accuracy: 92.500000%, \n",
      "\n",
      "        Recall: 100.000000%, \n",
      "\n",
      "        Precision: 50.000000%, \n",
      "\n",
      "        Avg loss: 0.177659 \n",
      "\n",
      "    \n"
     ]
    },
    {
     "name": "stderr",
     "output_type": "stream",
     "text": [
      "\n"
     ]
    },
    {
     "data": {
      "image/png": "[encoded data removed]",
      "text/plain": [
       "<Figure size 432x288 with 1 Axes>"
      ]
     },
     "metadata": {
      "needs_background": "light"
     },
     "output_type": "display_data"
    },
    {
     "name": "stdout",
     "output_type": "stream",
     "text": [
      "Starting model validation...\n"
     ]
    },
    {
     "name": "stderr",
     "output_type": "stream",
     "text": [
      "Evaluating: 100%|██████████| 3/3 [00:00<00:00, 15.04it/s]\n"
     ]
    },
    {
     "name": "stdout",
     "output_type": "stream",
     "text": [
      "Validation Error: \n",
      "\n",
      "        Accuracy: 90.000000%, \n",
      "\n",
      "        Recall: 0.000000%, \n",
      "\n",
      "        Precision: 0.000000%, \n",
      "\n",
      "        Avg loss: 0.216007 \n",
      "\n",
      "    \n",
      "Val ROC AUC Score: 0.9722222222222222\n",
      "Training done! Saving model...\n",
      "Saved model!\n",
      "Best model in fold 4, epoch 1 with roc_auc of 0.9722222222222222\n"
     ]
    }
   ],
   "source": [
    "model = EfficientNetBackbone(out_dim=1, load_schnaufnet_model=conf_dict[\"load_model\"])\n",
    "model.to(device)\n",
    "\n",
    "df_train = pd.read_csv(conf_dict[\"input_dir\"] + conf_dict[\"train_csv\"])\n",
    "if not conf_dict[\"use_all\"]:\n",
    "    df_train = df_train[:conf_dict[\"only_use\"]]\n",
    "df_train[\"file_path\"] = df_train[\"id\"].apply(get_file_path, directory=conf_dict[\"train_dir\"])\n",
    "\n",
    "loss_fn = nn.BCEWithLogitsLoss() # nn.BCELoss() => needs sigmoid as activation function\n",
    "optimizer = torch.optim.Adam(model.parameters(), lr=conf_dict[\"learn_rate\"], weight_decay=conf_dict[\"weight_decay\"]) # torch.optim.SGD(model.parameters(), lr=conf_dict[\"learn_rate\"]) \n",
    "scheduler = torch.optim.lr_scheduler.CosineAnnealingLR(\n",
    "    optimizer, T_max=conf_dict[\"epochs\"], eta_min=conf_dict[\"min_learn_rate\"], last_epoch=-1\n",
    ")\n",
    "num_epochs = conf_dict[\"epochs\"]\n",
    "skf = StratifiedKFold(n_splits=5)\n",
    "\n",
    "with codecs.open('logs/schnaufNet2.0 train.log', 'a') as up:\n",
    "    up.write(\"------------------ new training ------------------\")\n",
    "with codecs.open('logs/schnaufNet2.0 validation.log', 'a') as up:\n",
    "    up.write(\"------------------ new validation ------------------\")\n",
    "\n",
    "for fold, (train_index, val_index) in enumerate(skf.split(df_train, df_train[\"target\"])):\n",
    "    print(f\"+++ Fold {fold} +++\")\n",
    "    train_dataloader, val_dataloader = split(train_index, val_index, behaviour=current_split_behaviour)\n",
    "    best_roc_auc = 0\n",
    "    best_roc_auc_fold = 0\n",
    "    best_roc_auc_fold_epoch = 0\n",
    "    for epoch in range(num_epochs):\n",
    "        print(f\"Epoch {epoch+1}/{num_epochs}\\n-------------------------------\")\n",
    "        if epoch == math.floor(num_epochs * conf_dict[\"split_until_ratio\"]):\n",
    "            print(f\"!!! Changing train and validation data from {current_split_behaviour} behaviour to {new_split_behaviour} behaviour !!!\")\n",
    "            train_dataloader, val_dataloader = split(train_index, val_index, behaviour=new_split_behaviour)\n",
    "        train_loop(model, train_dataloader, optimizer, loss_fn, scheduler)\n",
    "        val_labels, val_predictions = validation_loop(model, val_dataloader, loss_fn)\n",
    "        roc_auc = metrics.roc_auc_score(val_labels, val_predictions)\n",
    "        print(f\"Val ROC AUC Score: {roc_auc}\")\n",
    "        with codecs.open('logs/schnaufNet2.0 validation.log', 'a') as up:\n",
    "            up.write(f\"\"\"\n",
    "                Epoch={epoch}, Valid ROC AUC={roc_auc}\\n\n",
    "            \"\"\")\n",
    "        if roc_auc > best_roc_auc:\n",
    "            torch.save(model.state_dict(), \"best_roc_auc_\" + conf_dict[\"model\"] + \"-\" + str(fold) + \"-\" + str(epoch) + \".pth\")\n",
    "            best_roc_auc = roc_auc\n",
    "            best_roc_auc_fold = fold\n",
    "            best_roc_auc_epoch = epoch\n",
    "    print(\"Training done!\")\n",
    "    # torch.save(model.state_dict(), \"version_\" + conf_dict[\"model\"] + \"-\" + str(fold) + \".pth\")\n",
    "print(f\"Best model in fold {best_roc_auc_fold}, epoch {best_roc_auc_epoch} with roc_auc of {best_roc_auc}\")\n"
   ]
  }
 ],
 "metadata": {
  "interpreter": {
   "hash": "cd13562b0d53cf8f16620a562c29f3801c7294b99be841c5d9655a8ee4126191"
  },
  "kernelspec": {
   "display_name": "Python 3.9.5 64-bit ('seti': conda)",
   "language": "python",
   "name": "python3"
  },
  "language_info": {
   "codemirror_mode": {
    "name": "ipython",
    "version": 3
   },
   "file_extension": ".py",
   "mimetype": "text/x-python",
   "name": "python",
   "nbconvert_exporter": "python",
   "pygments_lexer": "ipython3",
   "version": "3.8.12"
  },
  "orig_nbformat": 4
 },
 "nbformat": 4,
 "nbformat_minor": 2
}
