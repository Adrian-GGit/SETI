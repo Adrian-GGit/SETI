{
 "cells": [
  {
   "cell_type": "code",
   "execution_count": 101,
   "metadata": {},
   "outputs": [],
   "source": [
    "import numpy as np\n",
    "import math\n",
    "import matplotlib.pyplot as plt\n",
    "import pandas as pd\n",
    "from tqdm import tqdm\n",
    "import torch\n",
    "import random\n",
    "import os\n",
    "from torch.utils.data import Dataset, DataLoader\n",
    "from torch import nn\n",
    "import albumentations as A\n",
    "from torch.utils.data.sampler import WeightedRandomSampler\n",
    "from ignite.metrics import Recall, Precision, Accuracy\n",
    "from sklearn import metrics\n",
    "import codecs\n",
    "from efficientnet_pytorch import model as enet\n",
    "from sklearn.model_selection import StratifiedKFold"
   ]
  },
  {
   "cell_type": "code",
   "execution_count": 102,
   "metadata": {},
   "outputs": [],
   "source": [
    "torch.cuda.empty_cache()"
   ]
  },
  {
   "cell_type": "markdown",
   "metadata": {},
   "source": [
    "### Config"
   ]
  },
  {
   "cell_type": "code",
   "execution_count": 103,
   "metadata": {},
   "outputs": [
    {
     "name": "stdout",
     "output_type": "stream",
     "text": [
      "Using cuda device\n"
     ]
    }
   ],
   "source": [
    "conf_dict = {\n",
    "    \"batch_size\": 8,\n",
    "    \"learn_rate\": 1e-3,\n",
    "    \"min_learn_rate\": 1e-6,\n",
    "    \"weight_decay\": 1e-4,\n",
    "    \"epochs\": 10,\n",
    "    \"folds\": 5,\n",
    "\n",
    "    \"transfer_model_name\": \"efficientnet-b1\",\n",
    "    \"model\": \"schnaufnet_trained\",\n",
    "    \"model_to_load\": \"schnaufnet_trained.pth\",\n",
    "\n",
    "    \"input_dir\": \"../input/seti-breakthrough-listen/\",\n",
    "    \"train_dir\": \"../input/seti-breakthrough-listen/train/\",\n",
    "    \"train_csv\": \"train_labels.csv\",\n",
    "    \"test_dir\": \"../input/seti-breakthrough-listen/test/\",\n",
    "    \"test_csv\": \"sample_submission.csv\",\n",
    "    \"efficientnetdir\": \"../input/efficientnetpytorch/\",\n",
    "    \"height\": 256,\n",
    "    \"width\": 256,\n",
    "\n",
    "    \"origin_height\": 273,\n",
    "    \"origin_width\": 256,\n",
    "\n",
    "    \"use_all\": True,\n",
    "    \"only_use\": 1000,\n",
    "    \"behaviours\": {\n",
    "        \"all\": \"all\",\n",
    "        \"weighted\": \"weighted\",\n",
    "    },\n",
    "    \"split_until_ratio\": (3 / 4),\n",
    "    \"load_model\": False,\n",
    "}\n",
    "current_split_behaviour = conf_dict[\"behaviours\"][\"weighted\"]\n",
    "new_split_behaviour = conf_dict[\"behaviours\"][\"all\"]\n",
    "\n",
    "device = 'cuda' if torch.cuda.is_available() else 'cpu'\n",
    "print(f'Using {device} device')"
   ]
  },
  {
   "cell_type": "code",
   "execution_count": 104,
   "metadata": {},
   "outputs": [],
   "source": [
    "def set_seed(seed=0):\n",
    "    np.random.seed(seed)\n",
    "    random_state = np.random.RandomState(seed)\n",
    "    random.seed(seed)\n",
    "    torch.manual_seed(seed)\n",
    "    torch.cuda.manual_seed(seed)\n",
    "    torch.backends.cudnn.deterministic = True\n",
    "    torch.backends.cudnn.benchmark = False\n",
    "    os.environ['PYTHONHASHSEED'] = str(seed)\n",
    "    return random_state\n",
    "\n",
    "random_state = set_seed(2021)"
   ]
  },
  {
   "cell_type": "markdown",
   "metadata": {},
   "source": [
    "### Custom Dataset"
   ]
  },
  {
   "cell_type": "code",
   "execution_count": 105,
   "metadata": {},
   "outputs": [],
   "source": [
    "class SETIDataset(Dataset):\n",
    "\t\"\"\"Dataset for training data\"\"\"\n",
    "\tdef __init__(self, df, transform=None):\n",
    "\t\tself.df = df\n",
    "\t\tself.labels = self.df[\"target\"].values\n",
    "\t\tself.file_names = self.df['file_path'].values\n",
    "\t\tself.transform = transform\n",
    "\n",
    "\tdef __len__(self):\n",
    "\t\treturn len(self.df)\n",
    "\n",
    "\tdef __getitem__(self, idx):\n",
    "\t\tfile_path = self.file_names[idx]\n",
    "\t\timage = np.load(file_path)\n",
    "\t\timage = image.astype(np.float32)\n",
    "\t\timage = np.vstack(image).T\n",
    "\t\tif self.transform:\n",
    "\t\t\timage = self.transform(image=image)['image']\n",
    "\t\telse:\n",
    "\t\t\timage = image[np.newaxis,:,:] # add dimension\n",
    "\t\t\timage = torch.from_numpy(image).float()\n",
    "\t\timage = torch.from_numpy(image).unsqueeze(dim=0)\n",
    "\t\tlabel = torch.tensor(self.labels[idx]).float()\n",
    "\t\treturn image, label"
   ]
  },
  {
   "cell_type": "code",
   "execution_count": 106,
   "metadata": {},
   "outputs": [],
   "source": [
    "class EfficientNetBackbone(nn.Module):\n",
    "    def __init__(self, out_dim, load_schnaufnet_model=False):\n",
    "        super(EfficientNetBackbone, self).__init__()\n",
    "        print(\"Initializing Efficientnet Backbone\")\n",
    "        model_name = conf_dict[\"transfer_model_name\"]\n",
    "        self.efficientnet = enet.EfficientNet.from_pretrained(model_name)\n",
    "        if load_schnaufnet_model:\n",
    "            print(\"Loading pretrained schnaufnet model\")\n",
    "            model.load_state_dict(torch.load(conf_dict[\"model_to_load\"]))\n",
    "        self.first_layer = nn.Conv2d(1, 3, kernel_size=3, stride=1, padding=3, bias=False)\n",
    "        self.final_layer = nn.Linear(self.efficientnet._fc.in_features, out_dim)\n",
    "        self.efficientnet._fc = nn.Identity()\n",
    "\n",
    "    def extract(self, x):\n",
    "        return self.efficientnet(x)\n",
    "\n",
    "    def forward(self, x):\n",
    "        x = self.first_layer(x)\n",
    "        x = self.extract(x)\n",
    "        x = self.final_layer(x)\n",
    "        return x"
   ]
  },
  {
   "cell_type": "code",
   "execution_count": 107,
   "metadata": {},
   "outputs": [],
   "source": [
    "def split(train_index, val_index, behaviour=\"all\"):\n",
    "    train_df, val_df = df_train.iloc[train_index], df_train.iloc[val_index]\n",
    "    \n",
    "    dataset_train = SETIDataset(train_df, transform=get_transforms(data=\"train\"))\n",
    "    dataset_val = SETIDataset(val_df, transform=get_transforms(data=\"val\"))\n",
    "\n",
    "    if behaviour == conf_dict[\"behaviours\"][\"weighted\"]:\n",
    "        print(\"Using 50/50 weighted data...\")\n",
    "        labels = np.array(dataset_train.labels)\n",
    "        class_counts = np.array(\n",
    "            [len(np.where(labels == t)[0]) for t in np.unique(labels)])\n",
    "        num_samples = sum(class_counts)\n",
    "        class_weights = [num_samples/class_counts[i] for i in range(len(class_counts))]\n",
    "        weights = [class_weights[labels[i]] for i in range(int(num_samples))]\n",
    "        sampler = WeightedRandomSampler(torch.DoubleTensor(weights), int(num_samples))\n",
    "        train_dataloader = DataLoader(\n",
    "            dataset_train, batch_size=conf_dict[\"batch_size\"], sampler=sampler)\n",
    "    elif behaviour == conf_dict[\"behaviours\"][\"all\"]:\n",
    "        print(\"Using original full data...\")\n",
    "        train_dataloader = DataLoader(\n",
    "            dataset_train, batch_size=conf_dict[\"batch_size\"], shuffle=True)#, num_workers=2)\n",
    "    val_dataloader = DataLoader(dataset_val, batch_size=conf_dict[\"batch_size\"], shuffle=True)#, num_workers=2)\n",
    "    print(f\"Successfully splitted dataset!\\n Trainbatches: {len(train_dataloader)}\\n Validationbatches: {len(val_dataloader)}\")\n",
    "    return train_dataloader, val_dataloader\n",
    "\n",
    "def get_0_1_batches_ratio(dataloader):\n",
    "    print(\"dataloader length: \", len(dataloader))\n",
    "    for i, (data, target) in enumerate(dataloader):\n",
    "        print (f\"batch index {i}, 0/1: {len(np.where(target.numpy() == 0)[0])}/{len(np.where(target.numpy() == 1)[0])}\")\n",
    "\n",
    "def get_0_1_ratio(dataloader, train):\n",
    "    dataloader_0 = 0\n",
    "    dataloader_1 = 0\n",
    "    for i, (data, target) in enumerate(tqdm(dataloader)):\n",
    "        dataloader_0 += len(np.where(target.numpy() == 0)[0])\n",
    "        dataloader_1 += len(np.where(target.numpy() == 1)[0])\n",
    "    dataloaderinformation = \"train\" if train else \"val\"\n",
    "    print(f\"{dataloaderinformation} dataloader 0/1 ratio: {dataloader_0}, {dataloader_1}\")\n",
    "    return train_dataloader, val_dataloader"
   ]
  },
  {
   "cell_type": "code",
   "execution_count": 108,
   "metadata": {},
   "outputs": [],
   "source": [
    "def train_loop(model, train_dataloader, optimizer, loss_fn, scheduler, epoch_loss_list):\n",
    "    print(\"Starting model training...\")\n",
    "    model.train()\n",
    "    epoch_loss = 0\n",
    "    num_batches = len(train_dataloader)\n",
    "\n",
    "    accuracy = Accuracy()\n",
    "    precision = Precision()\n",
    "    recall = Recall()\n",
    "\n",
    "    for (images, labels) in tqdm(train_dataloader, position=0, leave=True, desc='Training'):\n",
    "        images = images.to(device, dtype=torch.float)\n",
    "        labels = labels.to(device, dtype=torch.float)\n",
    "\n",
    "        optimizer.zero_grad()\n",
    "        pred = model(images)\n",
    "        loss = loss_fn(pred.view(labels.size(0)), labels.to(torch.float32))\n",
    "        epoch_loss += loss.item()\n",
    "        loss.backward()\n",
    "        optimizer.step()\n",
    "        scheduler.step()\n",
    "        predicted = torch.sigmoid(pred).round()\n",
    "        accuracy.update((predicted, labels))\n",
    "        precision.update((predicted, labels))\n",
    "        recall.update((predicted, labels))\n",
    "\n",
    "    avg_epoch_loss = epoch_loss / num_batches\n",
    "    epoch_loss_list.append(avg_epoch_loss)\n",
    "    print(f\"\"\"Training Error: \\n \n",
    "        Accuracy: {100*accuracy.compute():>2f}%, \\n\n",
    "        Recall: {100*recall.compute():>2f}%, \\n\n",
    "        Precision: {100*precision.compute():>2f}%, \\n\n",
    "        Avg loss: {avg_epoch_loss:>2f} \\n\n",
    "    \"\"\")\n",
    "    with codecs.open('logs/schnaufNet2.0 train.log', 'a') as up:\n",
    "        up.write(f\"\"\"Validation Error: \\n\n",
    "            Accuracy: {100*accuracy.compute():2f}%, \\n\n",
    "            Recall: {100*recall.compute():2f}%, \\n\n",
    "            Precision: {100*precision.compute():>2f}%, \\n\n",
    "            Avg loss: {avg_epoch_loss:>2f} \\n\n",
    "        \"\"\")\n",
    "\n",
    "def validation_loop(model, val_dataloader, loss_fn):\n",
    "    print(\"Starting model validation...\")\n",
    "    model.eval()\n",
    "\n",
    "    epoch_loss = 0\n",
    "    num_batches = len(val_dataloader)\n",
    "    epoch_labels = []\n",
    "    epoch_preds = []\n",
    "\n",
    "    accuracy = Accuracy()\n",
    "    precision = Precision()\n",
    "    recall = Recall()\n",
    "\n",
    "    with torch.no_grad():\n",
    "        for (images, labels) in tqdm(val_dataloader, position=0, leave=True, desc='Evaluating'):\n",
    "            images = images.to(device)\n",
    "            labels = labels.to(device)\n",
    "\n",
    "            pred = model(images)\n",
    "            loss = loss_fn(pred.view(labels.size(0)), labels.to(torch.float32))\n",
    "            epoch_loss += loss.item()\n",
    "\n",
    "            predicted_raw = torch.sigmoid(pred)\n",
    "            predicted = predicted_raw.round()\n",
    "\n",
    "            accuracy.update((predicted, labels))\n",
    "            precision.update((predicted, labels))\n",
    "            recall.update((predicted, labels))\n",
    "            \n",
    "            labels = labels.detach().cpu().numpy().tolist()\n",
    "            predicted_raw = predicted_raw.detach().cpu().numpy().tolist()\n",
    "            epoch_labels.extend(labels)\n",
    "            epoch_preds.extend(predicted_raw)\n",
    "\n",
    "    avg_epoch_loss = epoch_loss / num_batches\n",
    "    print(f\"\"\"Validation Error: \\n\n",
    "        Accuracy: {100*accuracy.compute():2f}%, \\n\n",
    "        Recall: {100*recall.compute():2f}%, \\n\n",
    "        Precision: {100*precision.compute():>2f}%, \\n\n",
    "        Avg loss: {avg_epoch_loss:>2f} \\n\n",
    "    \"\"\")\n",
    "    with codecs.open('logs/schnaufNet2.0 validation.log', 'a') as up:\n",
    "        up.write(f\"\"\"Validation Error: \\n\n",
    "            Accuracy: {100*accuracy.compute():2f}%, \\n\n",
    "            Recall: {100*recall.compute():2f}%, \\n\n",
    "            Precision: {100*precision.compute():>2f}%, \\n\n",
    "            Avg loss: {avg_epoch_loss:>2f} \\n\n",
    "        \"\"\")\n",
    "    return epoch_labels, epoch_preds"
   ]
  },
  {
   "cell_type": "code",
   "execution_count": 109,
   "metadata": {},
   "outputs": [],
   "source": [
    "def get_transforms(data):\n",
    "    if data == 'train':\n",
    "        return A.Compose([\n",
    "            A.Resize(conf_dict[\"height\"], conf_dict[\"width\"]),\n",
    "            A.VerticalFlip(p=0.5),\n",
    "            A.HorizontalFlip(p=0.5),\n",
    "        ])\n",
    "    elif data == 'val':\n",
    "        return A.Compose([\n",
    "            A.Resize(conf_dict[\"height\"], conf_dict[\"width\"]),\n",
    "        ])\n",
    "\n",
    "def get_file_path(target, directory):\n",
    "    return directory + \"{}/{}.npy\".format(target[0], target)"
   ]
  },
  {
   "cell_type": "code",
   "execution_count": 110,
   "metadata": {},
   "outputs": [
    {
     "name": "stdout",
     "output_type": "stream",
     "text": [
      "Initializing Efficientnet Backbone\n"
     ]
    },
    {
     "name": "stderr",
     "output_type": "stream",
     "text": [
      "Downloading: \"https://github.com/lukemelas/EfficientNet-PyTorch/releases/download/1.0/efficientnet-b1-f1951068.pth\" to C:\\Users\\Adrian/.cache\\torch\\hub\\checkpoints\\efficientnet-b1-f1951068.pth\n",
      "100%|██████████| 30.1M/30.1M [00:02<00:00, 11.7MB/s]\n"
     ]
    },
    {
     "name": "stdout",
     "output_type": "stream",
     "text": [
      "Loaded pretrained weights for efficientnet-b1\n",
      "Fold 1/5 | Epoch 1/10\n",
      "-------------------------------\n",
      "Using original full data...\n",
      "Successfully splitted dataset!\n",
      " Trainbatches: 100\n",
      " Validationbatches: 25\n",
      "Starting model training...\n"
     ]
    },
    {
     "name": "stderr",
     "output_type": "stream",
     "text": [
      "Training: 100%|██████████| 100/100 [00:26<00:00,  3.71it/s]\n"
     ]
    },
    {
     "name": "stdout",
     "output_type": "stream",
     "text": [
      "Training Error: \n",
      " \n",
      "        Accuracy: 87.875000%, \n",
      "\n",
      "        Recall: 2.631579%, \n",
      "\n",
      "        Precision: 8.000000%, \n",
      "\n",
      "        Avg loss: 0.384671 \n",
      "\n",
      "    \n",
      "Starting model validation...\n"
     ]
    },
    {
     "name": "stderr",
     "output_type": "stream",
     "text": [
      "Evaluating: 100%|██████████| 25/25 [00:02<00:00,  9.57it/s]\n"
     ]
    },
    {
     "name": "stdout",
     "output_type": "stream",
     "text": [
      "Validation Error: \n",
      "\n",
      "        Accuracy: 91.000000%, \n",
      "\n",
      "        Recall: 0.000000%, \n",
      "\n",
      "        Precision: 0.000000%, \n",
      "\n",
      "        Avg loss: 0.556113 \n",
      "\n",
      "    \n",
      "Val ROC AUC Score: 0.37362637362637363\n"
     ]
    },
    {
     "data": {
      "image/png": "[encoded data removed]",
      "text/plain": [
       "<Figure size 432x288 with 1 Axes>"
      ]
     },
     "metadata": {
      "needs_background": "light"
     },
     "output_type": "display_data"
    },
    {
     "name": "stdout",
     "output_type": "stream",
     "text": [
      "Fold 1/5 | Epoch 2/10\n",
      "-------------------------------\n",
      "Using original full data...\n",
      "Successfully splitted dataset!\n",
      " Trainbatches: 100\n",
      " Validationbatches: 25\n",
      "Starting model training...\n"
     ]
    },
    {
     "name": "stderr",
     "output_type": "stream",
     "text": [
      "Training: 100%|██████████| 100/100 [00:26<00:00,  3.85it/s]\n"
     ]
    },
    {
     "name": "stdout",
     "output_type": "stream",
     "text": [
      "Training Error: \n",
      " \n",
      "        Accuracy: 89.375000%, \n",
      "\n",
      "        Recall: 3.947368%, \n",
      "\n",
      "        Precision: 20.000000%, \n",
      "\n",
      "        Avg loss: 0.349222 \n",
      "\n",
      "    \n",
      "Starting model validation...\n"
     ]
    },
    {
     "name": "stderr",
     "output_type": "stream",
     "text": [
      "Evaluating: 100%|██████████| 25/25 [00:02<00:00,  9.78it/s]\n"
     ]
    },
    {
     "name": "stdout",
     "output_type": "stream",
     "text": [
      "Validation Error: \n",
      "\n",
      "        Accuracy: 91.000000%, \n",
      "\n",
      "        Recall: 0.000000%, \n",
      "\n",
      "        Precision: 0.000000%, \n",
      "\n",
      "        Avg loss: 0.317436 \n",
      "\n",
      "    \n",
      "Val ROC AUC Score: 0.532967032967033\n"
     ]
    },
    {
     "data": {
      "image/png": "[encoded data removed]",
      "text/plain": [
       "<Figure size 432x288 with 1 Axes>"
      ]
     },
     "metadata": {
      "needs_background": "light"
     },
     "output_type": "display_data"
    },
    {
     "name": "stdout",
     "output_type": "stream",
     "text": [
      "Fold 1/5 | Epoch 3/10\n",
      "-------------------------------\n",
      "Using original full data...\n",
      "Successfully splitted dataset!\n",
      " Trainbatches: 100\n",
      " Validationbatches: 25\n",
      "Starting model training...\n"
     ]
    },
    {
     "name": "stderr",
     "output_type": "stream",
     "text": [
      "Training: 100%|██████████| 100/100 [00:26<00:00,  3.81it/s]\n"
     ]
    },
    {
     "name": "stdout",
     "output_type": "stream",
     "text": [
      "Training Error: \n",
      " \n",
      "        Accuracy: 90.375000%, \n",
      "\n",
      "        Recall: 0.000000%, \n",
      "\n",
      "        Precision: 0.000000%, \n",
      "\n",
      "        Avg loss: 0.327218 \n",
      "\n",
      "    \n",
      "Starting model validation...\n"
     ]
    },
    {
     "name": "stderr",
     "output_type": "stream",
     "text": [
      "Evaluating: 100%|██████████| 25/25 [00:02<00:00,  9.45it/s]\n"
     ]
    },
    {
     "name": "stdout",
     "output_type": "stream",
     "text": [
      "Validation Error: \n",
      "\n",
      "        Accuracy: 91.000000%, \n",
      "\n",
      "        Recall: 0.000000%, \n",
      "\n",
      "        Precision: 0.000000%, \n",
      "\n",
      "        Avg loss: 0.356284 \n",
      "\n",
      "    \n",
      "Val ROC AUC Score: 0.43345543345543347\n"
     ]
    },
    {
     "data": {
      "image/png": "[encoded data removed]",
      "text/plain": [
       "<Figure size 432x288 with 1 Axes>"
      ]
     },
     "metadata": {
      "needs_background": "light"
     },
     "output_type": "display_data"
    },
    {
     "name": "stdout",
     "output_type": "stream",
     "text": [
      "Fold 1/5 | Epoch 4/10\n",
      "-------------------------------\n",
      "Using original full data...\n",
      "Successfully splitted dataset!\n",
      " Trainbatches: 100\n",
      " Validationbatches: 25\n",
      "Starting model training...\n"
     ]
    },
    {
     "name": "stderr",
     "output_type": "stream",
     "text": [
      "Training: 100%|██████████| 100/100 [00:26<00:00,  3.83it/s]\n"
     ]
    },
    {
     "name": "stdout",
     "output_type": "stream",
     "text": [
      "Training Error: \n",
      " \n",
      "        Accuracy: 90.375000%, \n",
      "\n",
      "        Recall: 1.315789%, \n",
      "\n",
      "        Precision: 33.333333%, \n",
      "\n",
      "        Avg loss: 0.308992 \n",
      "\n",
      "    \n",
      "Starting model validation...\n"
     ]
    },
    {
     "name": "stderr",
     "output_type": "stream",
     "text": [
      "Evaluating: 100%|██████████| 25/25 [00:02<00:00,  9.44it/s]\n"
     ]
    },
    {
     "name": "stdout",
     "output_type": "stream",
     "text": [
      "Validation Error: \n",
      "\n",
      "        Accuracy: 91.000000%, \n",
      "\n",
      "        Recall: 0.000000%, \n",
      "\n",
      "        Precision: 0.000000%, \n",
      "\n",
      "        Avg loss: 0.357787 \n",
      "\n",
      "    \n",
      "Val ROC AUC Score: 0.47710622710622713\n"
     ]
    },
    {
     "data": {
      "image/png": "[encoded data removed]",
      "text/plain": [
       "<Figure size 432x288 with 1 Axes>"
      ]
     },
     "metadata": {
      "needs_background": "light"
     },
     "output_type": "display_data"
    },
    {
     "name": "stdout",
     "output_type": "stream",
     "text": [
      "Fold 1/5 | Epoch 5/10\n",
      "-------------------------------\n",
      "Using original full data...\n",
      "Successfully splitted dataset!\n",
      " Trainbatches: 100\n",
      " Validationbatches: 25\n",
      "Starting model training...\n"
     ]
    },
    {
     "name": "stderr",
     "output_type": "stream",
     "text": [
      "Training: 100%|██████████| 100/100 [00:26<00:00,  3.82it/s]\n"
     ]
    },
    {
     "name": "stdout",
     "output_type": "stream",
     "text": [
      "Training Error: \n",
      " \n",
      "        Accuracy: 90.625000%, \n",
      "\n",
      "        Recall: 1.315789%, \n",
      "\n",
      "        Precision: 100.000000%, \n",
      "\n",
      "        Avg loss: 0.289019 \n",
      "\n",
      "    \n",
      "Starting model validation...\n"
     ]
    },
    {
     "name": "stderr",
     "output_type": "stream",
     "text": [
      "Evaluating: 100%|██████████| 25/25 [00:02<00:00,  9.45it/s]\n"
     ]
    },
    {
     "name": "stdout",
     "output_type": "stream",
     "text": [
      "Validation Error: \n",
      "\n",
      "        Accuracy: 89.500000%, \n",
      "\n",
      "        Recall: 5.555556%, \n",
      "\n",
      "        Precision: 20.000000%, \n",
      "\n",
      "        Avg loss: 0.339494 \n",
      "\n",
      "    \n",
      "Val ROC AUC Score: 0.6669719169719169\n"
     ]
    },
    {
     "data": {
      "image/png": "[encoded data removed]",
      "text/plain": [
       "<Figure size 432x288 with 1 Axes>"
      ]
     },
     "metadata": {
      "needs_background": "light"
     },
     "output_type": "display_data"
    },
    {
     "name": "stdout",
     "output_type": "stream",
     "text": [
      "Fold 1/5 | Epoch 6/10\n",
      "-------------------------------\n",
      "Using original full data...\n",
      "Successfully splitted dataset!\n",
      " Trainbatches: 100\n",
      " Validationbatches: 25\n",
      "Starting model training...\n"
     ]
    },
    {
     "name": "stderr",
     "output_type": "stream",
     "text": [
      "Training: 100%|██████████| 100/100 [00:26<00:00,  3.84it/s]\n"
     ]
    },
    {
     "name": "stdout",
     "output_type": "stream",
     "text": [
      "Training Error: \n",
      " \n",
      "        Accuracy: 90.375000%, \n",
      "\n",
      "        Recall: 0.000000%, \n",
      "\n",
      "        Precision: 0.000000%, \n",
      "\n",
      "        Avg loss: 0.285149 \n",
      "\n",
      "    \n",
      "Starting model validation...\n"
     ]
    },
    {
     "name": "stderr",
     "output_type": "stream",
     "text": [
      "Evaluating: 100%|██████████| 25/25 [00:02<00:00,  9.60it/s]\n"
     ]
    },
    {
     "name": "stdout",
     "output_type": "stream",
     "text": [
      "Validation Error: \n",
      "\n",
      "        Accuracy: 91.000000%, \n",
      "\n",
      "        Recall: 0.000000%, \n",
      "\n",
      "        Precision: 0.000000%, \n",
      "\n",
      "        Avg loss: 0.393424 \n",
      "\n",
      "    \n",
      "Val ROC AUC Score: 0.5106837606837606\n"
     ]
    },
    {
     "data": {
      "image/png": "[encoded data removed]",
      "text/plain": [
       "<Figure size 432x288 with 1 Axes>"
      ]
     },
     "metadata": {
      "needs_background": "light"
     },
     "output_type": "display_data"
    },
    {
     "name": "stdout",
     "output_type": "stream",
     "text": [
      "Fold 1/5 | Epoch 7/10\n",
      "-------------------------------\n",
      "Using original full data...\n",
      "Successfully splitted dataset!\n",
      " Trainbatches: 100\n",
      " Validationbatches: 25\n",
      "Starting model training...\n"
     ]
    },
    {
     "name": "stderr",
     "output_type": "stream",
     "text": [
      "Training: 100%|██████████| 100/100 [00:26<00:00,  3.81it/s]\n"
     ]
    },
    {
     "name": "stdout",
     "output_type": "stream",
     "text": [
      "Training Error: \n",
      " \n",
      "        Accuracy: 90.625000%, \n",
      "\n",
      "        Recall: 1.315789%, \n",
      "\n",
      "        Precision: 100.000000%, \n",
      "\n",
      "        Avg loss: 0.297600 \n",
      "\n",
      "    \n",
      "Starting model validation...\n"
     ]
    },
    {
     "name": "stderr",
     "output_type": "stream",
     "text": [
      "Evaluating: 100%|██████████| 25/25 [00:02<00:00,  9.43it/s]"
     ]
    },
    {
     "name": "stdout",
     "output_type": "stream",
     "text": [
      "Validation Error: \n",
      "\n",
      "        Accuracy: 91.000000%, \n",
      "\n",
      "        Recall: 0.000000%, \n",
      "\n",
      "        Precision: 0.000000%, \n",
      "\n",
      "        Avg loss: 0.426491 \n",
      "\n",
      "    \n",
      "Val ROC AUC Score: 0.5534188034188035\n"
     ]
    },
    {
     "name": "stderr",
     "output_type": "stream",
     "text": [
      "\n"
     ]
    },
    {
     "data": {
      "image/png": "[encoded data removed]",
      "text/plain": [
       "<Figure size 432x288 with 1 Axes>"
      ]
     },
     "metadata": {
      "needs_background": "light"
     },
     "output_type": "display_data"
    },
    {
     "name": "stdout",
     "output_type": "stream",
     "text": [
      "Fold 1/5 | Epoch 8/10\n",
      "-------------------------------\n",
      "Using original full data...\n",
      "Successfully splitted dataset!\n",
      " Trainbatches: 100\n",
      " Validationbatches: 25\n",
      "Starting model training...\n"
     ]
    },
    {
     "name": "stderr",
     "output_type": "stream",
     "text": [
      "Training: 100%|██████████| 100/100 [00:26<00:00,  3.78it/s]\n"
     ]
    },
    {
     "name": "stdout",
     "output_type": "stream",
     "text": [
      "Training Error: \n",
      " \n",
      "        Accuracy: 90.375000%, \n",
      "\n",
      "        Recall: 1.315789%, \n",
      "\n",
      "        Precision: 33.333333%, \n",
      "\n",
      "        Avg loss: 0.266692 \n",
      "\n",
      "    \n",
      "Starting model validation...\n"
     ]
    },
    {
     "name": "stderr",
     "output_type": "stream",
     "text": [
      "Evaluating: 100%|██████████| 25/25 [00:02<00:00,  9.17it/s]\n"
     ]
    },
    {
     "name": "stdout",
     "output_type": "stream",
     "text": [
      "Validation Error: \n",
      "\n",
      "        Accuracy: 91.000000%, \n",
      "\n",
      "        Recall: 0.000000%, \n",
      "\n",
      "        Precision: 0.000000%, \n",
      "\n",
      "        Avg loss: 0.396675 \n",
      "\n",
      "    \n",
      "Val ROC AUC Score: 0.467948717948718\n"
     ]
    },
    {
     "data": {
      "image/png": "[encoded data removed]",
      "text/plain": [
       "<Figure size 432x288 with 1 Axes>"
      ]
     },
     "metadata": {
      "needs_background": "light"
     },
     "output_type": "display_data"
    },
    {
     "name": "stdout",
     "output_type": "stream",
     "text": [
      "Fold 1/5 | Epoch 9/10\n",
      "-------------------------------\n",
      "Using original full data...\n",
      "Successfully splitted dataset!\n",
      " Trainbatches: 100\n",
      " Validationbatches: 25\n",
      "Starting model training...\n"
     ]
    },
    {
     "name": "stderr",
     "output_type": "stream",
     "text": [
      "Training: 100%|██████████| 100/100 [00:27<00:00,  3.60it/s]\n"
     ]
    },
    {
     "name": "stdout",
     "output_type": "stream",
     "text": [
      "Training Error: \n",
      " \n",
      "        Accuracy: 90.625000%, \n",
      "\n",
      "        Recall: 2.631579%, \n",
      "\n",
      "        Precision: 66.666667%, \n",
      "\n",
      "        Avg loss: 0.251893 \n",
      "\n",
      "    \n",
      "Starting model validation...\n"
     ]
    },
    {
     "name": "stderr",
     "output_type": "stream",
     "text": [
      "Evaluating: 100%|██████████| 25/25 [00:02<00:00,  9.13it/s]\n"
     ]
    },
    {
     "name": "stdout",
     "output_type": "stream",
     "text": [
      "Validation Error: \n",
      "\n",
      "        Accuracy: 90.000000%, \n",
      "\n",
      "        Recall: 0.000000%, \n",
      "\n",
      "        Precision: 0.000000%, \n",
      "\n",
      "        Avg loss: 0.437449 \n",
      "\n",
      "    \n",
      "Val ROC AUC Score: 0.5393772893772895\n"
     ]
    },
    {
     "data": {
      "image/png": "[encoded data removed]",
      "text/plain": [
       "<Figure size 432x288 with 1 Axes>"
      ]
     },
     "metadata": {
      "needs_background": "light"
     },
     "output_type": "display_data"
    },
    {
     "name": "stdout",
     "output_type": "stream",
     "text": [
      "Fold 1/5 | Epoch 10/10\n",
      "-------------------------------\n",
      "Using original full data...\n",
      "Successfully splitted dataset!\n",
      " Trainbatches: 100\n",
      " Validationbatches: 25\n",
      "Starting model training...\n"
     ]
    },
    {
     "name": "stderr",
     "output_type": "stream",
     "text": [
      "Training: 100%|██████████| 100/100 [00:27<00:00,  3.61it/s]\n"
     ]
    },
    {
     "name": "stdout",
     "output_type": "stream",
     "text": [
      "Training Error: \n",
      " \n",
      "        Accuracy: 90.625000%, \n",
      "\n",
      "        Recall: 11.842105%, \n",
      "\n",
      "        Precision: 52.941176%, \n",
      "\n",
      "        Avg loss: 0.251782 \n",
      "\n",
      "    \n",
      "Starting model validation...\n"
     ]
    },
    {
     "name": "stderr",
     "output_type": "stream",
     "text": [
      "Evaluating: 100%|██████████| 25/25 [00:02<00:00,  9.85it/s]"
     ]
    },
    {
     "name": "stdout",
     "output_type": "stream",
     "text": [
      "Validation Error: \n",
      "\n",
      "        Accuracy: 90.500000%, \n",
      "\n",
      "        Recall: 0.000000%, \n",
      "\n",
      "        Precision: 0.000000%, \n",
      "\n",
      "        Avg loss: 0.521432 \n",
      "\n",
      "    \n",
      "Val ROC AUC Score: 0.4252136752136752\n"
     ]
    },
    {
     "name": "stderr",
     "output_type": "stream",
     "text": [
      "\n"
     ]
    },
    {
     "data": {
      "image/png": "[encoded data removed]",
      "text/plain": [
       "<Figure size 432x288 with 1 Axes>"
      ]
     },
     "metadata": {
      "needs_background": "light"
     },
     "output_type": "display_data"
    },
    {
     "name": "stdout",
     "output_type": "stream",
     "text": [
      "Training done! Best model in fold 0, epoch 4 with roc_auc of 0.6669719169719169\n"
     ]
    }
   ],
   "source": [
    "df_train = pd.read_csv(conf_dict[\"input_dir\"] + conf_dict[\"train_csv\"])\n",
    "if not conf_dict[\"use_all\"]:\n",
    "    df_train = df_train[:conf_dict[\"only_use\"]]\n",
    "df_train[\"file_path\"] = df_train[\"id\"].apply(get_file_path, directory=conf_dict[\"train_dir\"])\n",
    "\n",
    "loss_fn = nn.BCEWithLogitsLoss()\n",
    "num_epochs = conf_dict[\"epochs\"]\n",
    "num_folds = conf_dict[\"folds\"]\n",
    "skf = StratifiedKFold(n_splits=num_folds)\n",
    "\n",
    "with codecs.open('logs/schnaufNet2.0 train.log', 'a') as up:\n",
    "    up.write(\"------------------ new training ------------------\")\n",
    "with codecs.open('logs/schnaufNet2.0 validation.log', 'a') as up:\n",
    "    up.write(\"------------------ new validation ------------------\")\n",
    "\n",
    "for fold, (train_index, val_index) in enumerate(skf.split(df_train, df_train[\"target\"])):\n",
    "    model = EfficientNetBackbone(out_dim=1, load_schnaufnet_model=conf_dict[\"load_model\"])\n",
    "    model.to(device)\n",
    "    optimizer = torch.optim.Adam(model.parameters(), lr=conf_dict[\"learn_rate\"], weight_decay=conf_dict[\"weight_decay\"]) # torch.optim.SGD(model.parameters(), lr=conf_dict[\"learn_rate\"]) \n",
    "    scheduler = torch.optim.lr_scheduler.CosineAnnealingLR(\n",
    "        optimizer, T_max=conf_dict[\"epochs\"], eta_min=conf_dict[\"min_learn_rate\"], last_epoch=-1\n",
    "    )\n",
    "    best_roc_auc = 0\n",
    "    best_roc_auc_fold = 1\n",
    "    best_roc_auc_fold_epoch = 1\n",
    "    epoch_train_loss_list = []\n",
    "    for epoch in range(num_epochs):\n",
    "        print(f\"Fold {fold + 1}/{num_folds} | Epoch {epoch + 1}/{num_epochs}\\n-------------------------------\")\n",
    "        # if epoch == math.floor(num_epochs * conf_dict[\"split_until_ratio\"]):\n",
    "        #     train_dataloader, val_dataloader = split(train_index, val_index, behaviour=new_split_behaviour)\n",
    "        # else:\n",
    "        #     train_dataloader, val_dataloader = split(train_index, val_index, behaviour=current_split_behaviour)\n",
    "        train_dataloader, val_dataloader = split(train_index, val_index, behaviour=conf_dict[\"behaviours\"][\"all\"]) # only behaviour 'all'\n",
    "        train_loop(model, train_dataloader, optimizer, loss_fn, scheduler, epoch_train_loss_list)\n",
    "        val_labels, val_predictions = validation_loop(model, val_dataloader, loss_fn)\n",
    "        roc_auc = metrics.roc_auc_score(val_labels, val_predictions)\n",
    "        print(f\"Val ROC AUC Score: {roc_auc}\")\n",
    "        with codecs.open('logs/schnaufNet2.0 validation.log', 'a') as up:\n",
    "            up.write(f\"\"\"\n",
    "                Epoch={epoch}, Valid ROC AUC={roc_auc}\\n\n",
    "            \"\"\")\n",
    "        if roc_auc > best_roc_auc:\n",
    "            torch.save(model.state_dict(), \"best_roc_auc_\" + conf_dict[\"model\"] + \"-\" + str(fold) + \"-\" + str(epoch) + \".pth\")\n",
    "            best_roc_auc = roc_auc\n",
    "            best_roc_auc_fold = fold\n",
    "            best_roc_auc_epoch = epoch\n",
    "        plt.plot(epoch_train_loss_list, \"ro-\")\n",
    "        plt.title(\"Loss over epochs\")\n",
    "        plt.xlabel(\"Epoch\")\n",
    "        plt.ylabel(\"Loss\")\n",
    "        plt.show()\n",
    "    break # for test purposes only one fold\n",
    "print(f\"Training done! Best model in fold {best_roc_auc_fold}, epoch {best_roc_auc_epoch} with roc_auc of {best_roc_auc}\")"
   ]
  }
 ],
 "metadata": {
  "interpreter": {
   "hash": "cd13562b0d53cf8f16620a562c29f3801c7294b99be841c5d9655a8ee4126191"
  },
  "kernelspec": {
   "display_name": "Python 3.9.5 64-bit ('seti': conda)",
   "language": "python",
   "name": "python3"
  },
  "language_info": {
   "codemirror_mode": {
    "name": "ipython",
    "version": 3
   },
   "file_extension": ".py",
   "mimetype": "text/x-python",
   "name": "python",
   "nbconvert_exporter": "python",
   "pygments_lexer": "ipython3",
   "version": "3.8.12"
  },
  "orig_nbformat": 4
 },
 "nbformat": 4,
 "nbformat_minor": 2
}
