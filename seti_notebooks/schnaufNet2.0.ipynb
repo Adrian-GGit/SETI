{
 "cells": [
  {
   "cell_type": "code",
   "execution_count": 11,
   "metadata": {},
   "outputs": [],
   "source": [
    "import numpy as np\n",
    "import math\n",
    "import matplotlib.pyplot as plt\n",
    "import pandas as pd\n",
    "from tqdm import tqdm\n",
    "import torch\n",
    "import random\n",
    "import os\n",
    "from torch.utils.data import Dataset, DataLoader\n",
    "from torch import nn\n",
    "import albumentations as A\n",
    "from torch.utils.data.sampler import WeightedRandomSampler\n",
    "from ignite.metrics import Recall, Precision, Accuracy\n",
    "from sklearn import metrics\n",
    "import codecs\n",
    "from efficientnet_pytorch import model as enet\n",
    "from sklearn.model_selection import StratifiedKFold"
   ]
  },
  {
   "cell_type": "code",
   "execution_count": 12,
   "metadata": {},
   "outputs": [],
   "source": [
    "torch.cuda.empty_cache()"
   ]
  },
  {
   "cell_type": "markdown",
   "metadata": {},
   "source": [
    "### Config"
   ]
  },
  {
   "cell_type": "code",
   "execution_count": 13,
   "metadata": {},
   "outputs": [
    {
     "name": "stdout",
     "output_type": "stream",
     "text": [
      "Using cuda device\n"
     ]
    }
   ],
   "source": [
    "conf_dict = {\n",
    "    \"batch_size\": 8,\n",
    "    \"learn_rate\": 1e-3,\n",
    "    \"min_learn_rate\": 1e-6,\n",
    "    \"weight_decay\": 1e-4,\n",
    "    \"epochs\": 10,\n",
    "    \"folds\": 5,\n",
    "\n",
    "    \"transfer_model_name\": \"efficientnet-b1\",\n",
    "    \"model\": \"schnaufnet_trained\",\n",
    "    \"model_to_load\": \"schnaufnet_trained.pth\",\n",
    "\n",
    "    \"input_dir\": \"../input/seti-breakthrough-listen/\",\n",
    "    \"train_dir\": \"../input/seti-breakthrough-listen/train/\",\n",
    "    \"train_csv\": \"train_labels.csv\",\n",
    "    \"test_dir\": \"../input/seti-breakthrough-listen/test/\",\n",
    "    \"test_csv\": \"sample_submission.csv\",\n",
    "    \"efficientnetdir\": \"../input/efficientnetpytorch/\",\n",
    "    \"height\": 256,\n",
    "    \"width\": 256,\n",
    "\n",
    "    \"origin_height\": 273,\n",
    "    \"origin_width\": 256,\n",
    "\n",
    "    \"use_all\": True,\n",
    "    \"only_use\": 1000,\n",
    "    \"behaviours\": {\n",
    "        \"all\": \"all\",\n",
    "        \"weighted\": \"weighted\",\n",
    "    },\n",
    "    \"split_until_ratio\": (3 / 4),\n",
    "    \"load_model\": False,\n",
    "}\n",
    "current_split_behaviour = conf_dict[\"behaviours\"][\"weighted\"]\n",
    "new_split_behaviour = conf_dict[\"behaviours\"][\"all\"]\n",
    "\n",
    "device = 'cuda' if torch.cuda.is_available() else 'cpu'\n",
    "print(f'Using {device} device')"
   ]
  },
  {
   "cell_type": "code",
   "execution_count": 14,
   "metadata": {},
   "outputs": [],
   "source": [
    "def set_seed(seed=0):\n",
    "    np.random.seed(seed)\n",
    "    random_state = np.random.RandomState(seed)\n",
    "    random.seed(seed)\n",
    "    torch.manual_seed(seed)\n",
    "    torch.cuda.manual_seed(seed)\n",
    "    torch.backends.cudnn.deterministic = True\n",
    "    torch.backends.cudnn.benchmark = False\n",
    "    os.environ['PYTHONHASHSEED'] = str(seed)\n",
    "    return random_state\n",
    "\n",
    "random_state = set_seed(2021)"
   ]
  },
  {
   "cell_type": "markdown",
   "metadata": {},
   "source": [
    "### Custom Dataset"
   ]
  },
  {
   "cell_type": "code",
   "execution_count": 15,
   "metadata": {},
   "outputs": [],
   "source": [
    "class SETIDataset(Dataset):\n",
    "\t\"\"\"Dataset for training data\"\"\"\n",
    "\tdef __init__(self, df, transform=None):\n",
    "\t\tself.df = df\n",
    "\t\tself.labels = self.df[\"target\"].values\n",
    "\t\tself.file_names = self.df['file_path'].values\n",
    "\t\tself.transform = transform\n",
    "\n",
    "\tdef __len__(self):\n",
    "\t\treturn len(self.df)\n",
    "\n",
    "\tdef __getitem__(self, idx):\n",
    "\t\tfile_path = self.file_names[idx]\n",
    "\t\timage = np.load(file_path)\n",
    "\t\timage = image.astype(np.float32)\n",
    "\t\timage = np.vstack(image).T\n",
    "\t\tif self.transform:\n",
    "\t\t\timage = self.transform(image=image)['image']\n",
    "\t\telse:\n",
    "\t\t\timage = image[np.newaxis,:,:] # add dimension\n",
    "\t\t\timage = torch.from_numpy(image).float()\n",
    "\t\timage = torch.from_numpy(image).unsqueeze(dim=0)\n",
    "\t\tlabel = torch.tensor(self.labels[idx]).float()\n",
    "\t\treturn image, label"
   ]
  },
  {
   "cell_type": "code",
   "execution_count": 16,
   "metadata": {},
   "outputs": [],
   "source": [
    "class EfficientNetBackbone(nn.Module):\n",
    "    def __init__(self, out_dim, load_schnaufnet_model=False):\n",
    "        super(EfficientNetBackbone, self).__init__()\n",
    "        print(\"Initializing Efficientnet Backbone\")\n",
    "        model_name = conf_dict[\"transfer_model_name\"]\n",
    "        self.efficientnet = enet.EfficientNet.from_pretrained(model_name)\n",
    "        if load_schnaufnet_model:\n",
    "            print(\"Loading pretrained schnaufnet model\")\n",
    "            model.load_state_dict(torch.load(conf_dict[\"model_to_load\"]))\n",
    "        self.first_layer = nn.Conv2d(1, 3, kernel_size=3, stride=1, padding=3, bias=False)\n",
    "        self.final_layer = nn.Linear(self.efficientnet._fc.in_features, out_dim)\n",
    "        self.efficientnet._fc = nn.Identity()\n",
    "\n",
    "    def extract(self, x):\n",
    "        return self.efficientnet(x)\n",
    "\n",
    "    def forward(self, x):\n",
    "        x = self.first_layer(x)\n",
    "        x = self.extract(x)\n",
    "        x = self.final_layer(x)\n",
    "        return x"
   ]
  },
  {
   "cell_type": "code",
   "execution_count": 17,
   "metadata": {},
   "outputs": [],
   "source": [
    "def split(train_index, val_index, behaviour=\"all\"):\n",
    "    train_df, val_df = df_train.iloc[train_index], df_train.iloc[val_index]\n",
    "    \n",
    "    dataset_train = SETIDataset(train_df, transform=get_transforms(data=\"train\"))\n",
    "    dataset_val = SETIDataset(val_df, transform=get_transforms(data=\"val\"))\n",
    "\n",
    "    if behaviour == conf_dict[\"behaviours\"][\"weighted\"]:\n",
    "        print(\"Using 50/50 weighted data...\")\n",
    "        labels = np.array(dataset_train.labels)\n",
    "        class_counts = np.array(\n",
    "            [len(np.where(labels == t)[0]) for t in np.unique(labels)])\n",
    "        num_samples = sum(class_counts)\n",
    "        class_weights = [num_samples/class_counts[i] for i in range(len(class_counts))]\n",
    "        weights = [class_weights[labels[i]] for i in range(int(num_samples))]\n",
    "        sampler = WeightedRandomSampler(torch.DoubleTensor(weights), int(num_samples))\n",
    "        train_dataloader = DataLoader(\n",
    "            dataset_train, batch_size=conf_dict[\"batch_size\"], sampler=sampler)\n",
    "    elif behaviour == conf_dict[\"behaviours\"][\"all\"]:\n",
    "        print(\"Using original full data...\")\n",
    "        train_dataloader = DataLoader(\n",
    "            dataset_train, batch_size=conf_dict[\"batch_size\"], shuffle=True)#, num_workers=2)\n",
    "    val_dataloader = DataLoader(dataset_val, batch_size=conf_dict[\"batch_size\"], shuffle=True)#, num_workers=2)\n",
    "    print(f\"Successfully splitted dataset!\\n Trainbatches: {len(train_dataloader)}\\n Validationbatches: {len(val_dataloader)}\")\n",
    "    return train_dataloader, val_dataloader\n",
    "\n",
    "def get_0_1_batches_ratio(dataloader):\n",
    "    print(\"dataloader length: \", len(dataloader))\n",
    "    for i, (data, target) in enumerate(dataloader):\n",
    "        print (f\"batch index {i}, 0/1: {len(np.where(target.numpy() == 0)[0])}/{len(np.where(target.numpy() == 1)[0])}\")\n",
    "\n",
    "def get_0_1_ratio(dataloader, train):\n",
    "    dataloader_0 = 0\n",
    "    dataloader_1 = 0\n",
    "    for i, (data, target) in enumerate(tqdm(dataloader)):\n",
    "        dataloader_0 += len(np.where(target.numpy() == 0)[0])\n",
    "        dataloader_1 += len(np.where(target.numpy() == 1)[0])\n",
    "    dataloaderinformation = \"train\" if train else \"val\"\n",
    "    print(f\"{dataloaderinformation} dataloader 0/1 ratio: {dataloader_0}, {dataloader_1}\")\n",
    "    return train_dataloader, val_dataloader"
   ]
  },
  {
   "cell_type": "code",
   "execution_count": 18,
   "metadata": {},
   "outputs": [],
   "source": [
    "def train_loop(model, train_dataloader, optimizer, loss_fn, scheduler, epoch_loss_list):\n",
    "    print(\"Starting model training...\")\n",
    "    model.train()\n",
    "    epoch_loss = 0\n",
    "    num_batches = len(train_dataloader)\n",
    "\n",
    "    accuracy = Accuracy()\n",
    "    precision = Precision()\n",
    "    recall = Recall()\n",
    "\n",
    "    for (images, labels) in tqdm(train_dataloader, position=0, leave=True, desc='Training'):\n",
    "        images = images.to(device, dtype=torch.float)\n",
    "        labels = labels.to(device, dtype=torch.float)\n",
    "\n",
    "        optimizer.zero_grad()\n",
    "        pred = model(images)\n",
    "        loss = loss_fn(pred.view(labels.size(0)), labels.to(torch.float32))\n",
    "        epoch_loss += loss.item()\n",
    "        loss.backward()\n",
    "        optimizer.step()\n",
    "        scheduler.step()\n",
    "        predicted = torch.sigmoid(pred).round()\n",
    "        accuracy.update((predicted, labels))\n",
    "        precision.update((predicted, labels))\n",
    "        recall.update((predicted, labels))\n",
    "\n",
    "    avg_epoch_loss = epoch_loss / num_batches\n",
    "    epoch_loss_list.append(avg_epoch_loss)\n",
    "    print(f\"\"\"Training Error: \\n \n",
    "        Accuracy: {100*accuracy.compute():>2f}%, \\n\n",
    "        Recall: {100*recall.compute():>2f}%, \\n\n",
    "        Precision: {100*precision.compute():>2f}%, \\n\n",
    "        Avg loss: {avg_epoch_loss:>2f} \\n\n",
    "    \"\"\")\n",
    "    with codecs.open('logs/schnaufNet2.0 train.log', 'a') as up:\n",
    "        up.write(f\"\"\"Validation Error: \\n\n",
    "            Accuracy: {100*accuracy.compute():2f}%, \\n\n",
    "            Recall: {100*recall.compute():2f}%, \\n\n",
    "            Precision: {100*precision.compute():>2f}%, \\n\n",
    "            Avg loss: {avg_epoch_loss:>2f} \\n\n",
    "        \"\"\")\n",
    "\n",
    "def validation_loop(model, val_dataloader, loss_fn):\n",
    "    print(\"Starting model validation...\")\n",
    "    model.eval()\n",
    "\n",
    "    epoch_loss = 0\n",
    "    num_batches = len(val_dataloader)\n",
    "    epoch_labels = []\n",
    "    epoch_preds = []\n",
    "\n",
    "    accuracy = Accuracy()\n",
    "    precision = Precision()\n",
    "    recall = Recall()\n",
    "\n",
    "    with torch.no_grad():\n",
    "        for (images, labels) in tqdm(val_dataloader, position=0, leave=True, desc='Evaluating'):\n",
    "            images = images.to(device)\n",
    "            labels = labels.to(device)\n",
    "\n",
    "            pred = model(images)\n",
    "            loss = loss_fn(pred.view(labels.size(0)), labels.to(torch.float32))\n",
    "            epoch_loss += loss.item()\n",
    "\n",
    "            predicted_raw = torch.sigmoid(pred)\n",
    "            predicted = predicted_raw.round()\n",
    "\n",
    "            accuracy.update((predicted, labels))\n",
    "            precision.update((predicted, labels))\n",
    "            recall.update((predicted, labels))\n",
    "            \n",
    "            labels = labels.detach().cpu().numpy().tolist()\n",
    "            predicted_raw = predicted_raw.detach().cpu().numpy().tolist()\n",
    "            epoch_labels.extend(labels)\n",
    "            epoch_preds.extend(predicted_raw)\n",
    "\n",
    "    avg_epoch_loss = epoch_loss / num_batches\n",
    "    print(f\"\"\"Validation Error: \\n\n",
    "        Accuracy: {100*accuracy.compute():2f}%, \\n\n",
    "        Recall: {100*recall.compute():2f}%, \\n\n",
    "        Precision: {100*precision.compute():>2f}%, \\n\n",
    "        Avg loss: {avg_epoch_loss:>2f} \\n\n",
    "    \"\"\")\n",
    "    with codecs.open('logs/schnaufNet2.0 validation.log', 'a') as up:\n",
    "        up.write(f\"\"\"Validation Error: \\n\n",
    "            Accuracy: {100*accuracy.compute():2f}%, \\n\n",
    "            Recall: {100*recall.compute():2f}%, \\n\n",
    "            Precision: {100*precision.compute():>2f}%, \\n\n",
    "            Avg loss: {avg_epoch_loss:>2f} \\n\n",
    "        \"\"\")\n",
    "    return epoch_labels, epoch_preds"
   ]
  },
  {
   "cell_type": "code",
   "execution_count": 19,
   "metadata": {},
   "outputs": [],
   "source": [
    "def get_transforms(data):\n",
    "    if data == 'train':\n",
    "        return A.Compose([\n",
    "            A.Resize(conf_dict[\"height\"], conf_dict[\"width\"]),\n",
    "            A.VerticalFlip(p=0.5),\n",
    "            A.HorizontalFlip(p=0.5),\n",
    "        ])\n",
    "    elif data == 'val':\n",
    "        return A.Compose([\n",
    "            A.Resize(conf_dict[\"height\"], conf_dict[\"width\"]),\n",
    "        ])\n",
    "\n",
    "def get_file_path(target, directory):\n",
    "    return directory + \"{}/{}.npy\".format(target[0], target)"
   ]
  },
  {
   "cell_type": "code",
   "execution_count": 20,
   "metadata": {},
   "outputs": [
    {
     "name": "stdout",
     "output_type": "stream",
     "text": [
      "Initializing Efficientnet Backbone\n",
      "Loaded pretrained weights for efficientnet-b1\n",
      "Fold 1/5 | Epoch 1/10\n",
      "-------------------------------\n",
      "Using original full data...\n",
      "Successfully splitted dataset!\n",
      " Trainbatches: 6000\n",
      " Validationbatches: 1500\n",
      "Starting model training...\n"
     ]
    },
    {
     "name": "stderr",
     "output_type": "stream",
     "text": [
      "Training: 100%|██████████| 6000/6000 [48:24<00:00,  2.07it/s]  \n"
     ]
    },
    {
     "name": "stdout",
     "output_type": "stream",
     "text": [
      "Training Error: \n",
      " \n",
      "        Accuracy: 90.279167%, \n",
      "\n",
      "        Recall: 5.916667%, \n",
      "\n",
      "        Precision: 65.437788%, \n",
      "\n",
      "        Avg loss: 0.316059 \n",
      "\n",
      "    \n",
      "Starting model validation...\n"
     ]
    },
    {
     "name": "stderr",
     "output_type": "stream",
     "text": [
      "Evaluating: 100%|██████████| 1500/1500 [10:12<00:00,  2.45it/s]\n"
     ]
    },
    {
     "name": "stdout",
     "output_type": "stream",
     "text": [
      "Validation Error: \n",
      "\n",
      "        Accuracy: 91.591667%, \n",
      "\n",
      "        Recall: 20.333333%, \n",
      "\n",
      "        Precision: 82.154882%, \n",
      "\n",
      "        Avg loss: 0.283180 \n",
      "\n",
      "    \n",
      "Val ROC AUC Score: 0.7023991898148148\n"
     ]
    },
    {
     "data": {
      "image/png": "[encoded data removed]",
      "text/plain": [
       "<Figure size 432x288 with 1 Axes>"
      ]
     },
     "metadata": {
      "needs_background": "light"
     },
     "output_type": "display_data"
    },
    {
     "name": "stdout",
     "output_type": "stream",
     "text": [
      "Fold 1/5 | Epoch 2/10\n",
      "-------------------------------\n",
      "Using original full data...\n",
      "Successfully splitted dataset!\n",
      " Trainbatches: 6000\n",
      " Validationbatches: 1500\n",
      "Starting model training...\n"
     ]
    },
    {
     "name": "stderr",
     "output_type": "stream",
     "text": [
      "Training: 100%|██████████| 6000/6000 [47:23<00:00,  2.11it/s]  \n"
     ]
    },
    {
     "name": "stdout",
     "output_type": "stream",
     "text": [
      "Training Error: \n",
      " \n",
      "        Accuracy: 91.822917%, \n",
      "\n",
      "        Recall: 22.875000%, \n",
      "\n",
      "        Precision: 83.118849%, \n",
      "\n",
      "        Avg loss: 0.271915 \n",
      "\n",
      "    \n",
      "Starting model validation...\n"
     ]
    },
    {
     "name": "stderr",
     "output_type": "stream",
     "text": [
      "Evaluating: 100%|██████████| 1500/1500 [09:20<00:00,  2.68it/s]\n"
     ]
    },
    {
     "name": "stdout",
     "output_type": "stream",
     "text": [
      "Validation Error: \n",
      "\n",
      "        Accuracy: 92.233333%, \n",
      "\n",
      "        Recall: 26.000000%, \n",
      "\n",
      "        Precision: 87.640449%, \n",
      "\n",
      "        Avg loss: 0.265304 \n",
      "\n",
      "    \n",
      "Val ROC AUC Score: 0.7099793209876544\n"
     ]
    },
    {
     "data": {
      "image/png": "[encoded data removed]",
      "text/plain": [
       "<Figure size 432x288 with 1 Axes>"
      ]
     },
     "metadata": {
      "needs_background": "light"
     },
     "output_type": "display_data"
    },
    {
     "name": "stdout",
     "output_type": "stream",
     "text": [
      "Fold 1/5 | Epoch 3/10\n",
      "-------------------------------\n",
      "Using original full data...\n",
      "Successfully splitted dataset!\n",
      " Trainbatches: 6000\n",
      " Validationbatches: 1500\n",
      "Starting model training...\n"
     ]
    },
    {
     "name": "stderr",
     "output_type": "stream",
     "text": [
      "Training: 100%|██████████| 6000/6000 [46:37<00:00,  2.14it/s]  \n"
     ]
    },
    {
     "name": "stdout",
     "output_type": "stream",
     "text": [
      "Training Error: \n",
      " \n",
      "        Accuracy: 92.281250%, \n",
      "\n",
      "        Recall: 26.791667%, \n",
      "\n",
      "        Precision: 87.068382%, \n",
      "\n",
      "        Avg loss: 0.260142 \n",
      "\n",
      "    \n",
      "Starting model validation...\n"
     ]
    },
    {
     "name": "stderr",
     "output_type": "stream",
     "text": [
      "Evaluating: 100%|██████████| 1500/1500 [09:46<00:00,  2.56it/s]\n"
     ]
    },
    {
     "name": "stdout",
     "output_type": "stream",
     "text": [
      "Validation Error: \n",
      "\n",
      "        Accuracy: 92.183333%, \n",
      "\n",
      "        Recall: 23.166667%, \n",
      "\n",
      "        Precision: 94.557823%, \n",
      "\n",
      "        Avg loss: 0.262386 \n",
      "\n",
      "    \n",
      "Val ROC AUC Score: 0.7174419753086421\n"
     ]
    },
    {
     "data": {
      "image/png": "[encoded data removed]",
      "text/plain": [
       "<Figure size 432x288 with 1 Axes>"
      ]
     },
     "metadata": {
      "needs_background": "light"
     },
     "output_type": "display_data"
    },
    {
     "name": "stdout",
     "output_type": "stream",
     "text": [
      "Fold 1/5 | Epoch 4/10\n",
      "-------------------------------\n",
      "Using original full data...\n",
      "Successfully splitted dataset!\n",
      " Trainbatches: 6000\n",
      " Validationbatches: 1500\n",
      "Starting model training...\n"
     ]
    },
    {
     "name": "stderr",
     "output_type": "stream",
     "text": [
      "Training: 100%|██████████| 6000/6000 [46:28<00:00,  2.15it/s]  \n"
     ]
    },
    {
     "name": "stdout",
     "output_type": "stream",
     "text": [
      "Training Error: \n",
      " \n",
      "        Accuracy: 92.460417%, \n",
      "\n",
      "        Recall: 28.500000%, \n",
      "\n",
      "        Precision: 87.974277%, \n",
      "\n",
      "        Avg loss: 0.253791 \n",
      "\n",
      "    \n",
      "Starting model validation...\n"
     ]
    },
    {
     "name": "stderr",
     "output_type": "stream",
     "text": [
      "Evaluating: 100%|██████████| 1500/1500 [09:42<00:00,  2.58it/s]\n"
     ]
    },
    {
     "name": "stdout",
     "output_type": "stream",
     "text": [
      "Validation Error: \n",
      "\n",
      "        Accuracy: 92.341667%, \n",
      "\n",
      "        Recall: 24.166667%, \n",
      "\n",
      "        Precision: 96.989967%, \n",
      "\n",
      "        Avg loss: 0.263975 \n",
      "\n",
      "    \n",
      "Val ROC AUC Score: 0.7255471450617283\n"
     ]
    },
    {
     "data": {
      "image/png": "[encoded data removed]",
      "text/plain": [
       "<Figure size 432x288 with 1 Axes>"
      ]
     },
     "metadata": {
      "needs_background": "light"
     },
     "output_type": "display_data"
    },
    {
     "name": "stdout",
     "output_type": "stream",
     "text": [
      "Fold 1/5 | Epoch 5/10\n",
      "-------------------------------\n",
      "Using original full data...\n",
      "Successfully splitted dataset!\n",
      " Trainbatches: 6000\n",
      " Validationbatches: 1500\n",
      "Starting model training...\n"
     ]
    },
    {
     "name": "stderr",
     "output_type": "stream",
     "text": [
      "Training: 100%|██████████| 6000/6000 [47:51<00:00,  2.09it/s]  \n"
     ]
    },
    {
     "name": "stdout",
     "output_type": "stream",
     "text": [
      "Training Error: \n",
      " \n",
      "        Accuracy: 92.558333%, \n",
      "\n",
      "        Recall: 29.437500%, \n",
      "\n",
      "        Precision: 88.423029%, \n",
      "\n",
      "        Avg loss: 0.250817 \n",
      "\n",
      "    \n",
      "Starting model validation...\n"
     ]
    },
    {
     "name": "stderr",
     "output_type": "stream",
     "text": [
      "Evaluating: 100%|██████████| 1500/1500 [09:47<00:00,  2.55it/s]\n"
     ]
    },
    {
     "name": "stdout",
     "output_type": "stream",
     "text": [
      "Validation Error: \n",
      "\n",
      "        Accuracy: 92.558333%, \n",
      "\n",
      "        Recall: 26.833333%, \n",
      "\n",
      "        Precision: 95.548961%, \n",
      "\n",
      "        Avg loss: 0.252327 \n",
      "\n",
      "    \n",
      "Val ROC AUC Score: 0.7425104552469137\n"
     ]
    },
    {
     "data": {
      "image/png": "[encoded data removed]",
      "text/plain": [
       "<Figure size 432x288 with 1 Axes>"
      ]
     },
     "metadata": {
      "needs_background": "light"
     },
     "output_type": "display_data"
    },
    {
     "name": "stdout",
     "output_type": "stream",
     "text": [
      "Fold 1/5 | Epoch 6/10\n",
      "-------------------------------\n",
      "Using original full data...\n",
      "Successfully splitted dataset!\n",
      " Trainbatches: 6000\n",
      " Validationbatches: 1500\n",
      "Starting model training...\n"
     ]
    },
    {
     "name": "stderr",
     "output_type": "stream",
     "text": [
      "Training: 100%|██████████| 6000/6000 [48:43<00:00,  2.05it/s]  \n"
     ]
    },
    {
     "name": "stdout",
     "output_type": "stream",
     "text": [
      "Training Error: \n",
      " \n",
      "        Accuracy: 92.727083%, \n",
      "\n",
      "        Recall: 30.604167%, \n",
      "\n",
      "        Precision: 90.178023%, \n",
      "\n",
      "        Avg loss: 0.248400 \n",
      "\n",
      "    \n",
      "Starting model validation...\n"
     ]
    },
    {
     "name": "stderr",
     "output_type": "stream",
     "text": [
      "Evaluating: 100%|██████████| 1500/1500 [10:11<00:00,  2.45it/s]\n"
     ]
    },
    {
     "name": "stdout",
     "output_type": "stream",
     "text": [
      "Validation Error: \n",
      "\n",
      "        Accuracy: 92.733333%, \n",
      "\n",
      "        Recall: 29.250000%, \n",
      "\n",
      "        Precision: 93.850267%, \n",
      "\n",
      "        Avg loss: 0.249461 \n",
      "\n",
      "    \n",
      "Val ROC AUC Score: 0.7397504243827161\n"
     ]
    },
    {
     "data": {
      "image/png": "[encoded data removed]",
      "text/plain": [
       "<Figure size 432x288 with 1 Axes>"
      ]
     },
     "metadata": {
      "needs_background": "light"
     },
     "output_type": "display_data"
    },
    {
     "name": "stdout",
     "output_type": "stream",
     "text": [
      "Fold 1/5 | Epoch 7/10\n",
      "-------------------------------\n",
      "Using original full data...\n",
      "Successfully splitted dataset!\n",
      " Trainbatches: 6000\n",
      " Validationbatches: 1500\n",
      "Starting model training...\n"
     ]
    },
    {
     "name": "stderr",
     "output_type": "stream",
     "text": [
      "Training: 100%|██████████| 6000/6000 [53:24<00:00,  1.87it/s]  \n"
     ]
    },
    {
     "name": "stdout",
     "output_type": "stream",
     "text": [
      "Training Error: \n",
      " \n",
      "        Accuracy: 92.777083%, \n",
      "\n",
      "        Recall: 31.145833%, \n",
      "\n",
      "        Precision: 90.223295%, \n",
      "\n",
      "        Avg loss: 0.245814 \n",
      "\n",
      "    \n",
      "Starting model validation...\n"
     ]
    },
    {
     "name": "stderr",
     "output_type": "stream",
     "text": [
      "Evaluating: 100%|██████████| 1500/1500 [09:57<00:00,  2.51it/s]\n"
     ]
    },
    {
     "name": "stdout",
     "output_type": "stream",
     "text": [
      "Validation Error: \n",
      "\n",
      "        Accuracy: 92.641667%, \n",
      "\n",
      "        Recall: 28.166667%, \n",
      "\n",
      "        Precision: 94.150418%, \n",
      "\n",
      "        Avg loss: 0.249279 \n",
      "\n",
      "    \n",
      "Val ROC AUC Score: 0.7472385030864197\n"
     ]
    },
    {
     "data": {
      "image/png": "[encoded data removed]",
      "text/plain": [
       "<Figure size 432x288 with 1 Axes>"
      ]
     },
     "metadata": {
      "needs_background": "light"
     },
     "output_type": "display_data"
    },
    {
     "name": "stdout",
     "output_type": "stream",
     "text": [
      "Fold 1/5 | Epoch 8/10\n",
      "-------------------------------\n",
      "Using original full data...\n",
      "Successfully splitted dataset!\n",
      " Trainbatches: 6000\n",
      " Validationbatches: 1500\n",
      "Starting model training...\n"
     ]
    },
    {
     "name": "stderr",
     "output_type": "stream",
     "text": [
      "Training: 100%|██████████| 6000/6000 [47:08<00:00,  2.12it/s] \n"
     ]
    },
    {
     "name": "stdout",
     "output_type": "stream",
     "text": [
      "Training Error: \n",
      " \n",
      "        Accuracy: 92.843750%, \n",
      "\n",
      "        Recall: 31.770833%, \n",
      "\n",
      "        Precision: 90.504451%, \n",
      "\n",
      "        Avg loss: 0.244747 \n",
      "\n",
      "    \n",
      "Starting model validation...\n"
     ]
    },
    {
     "name": "stderr",
     "output_type": "stream",
     "text": [
      "Evaluating: 100%|██████████| 1500/1500 [09:39<00:00,  2.59it/s]"
     ]
    },
    {
     "name": "stdout",
     "output_type": "stream",
     "text": [
      "Validation Error: \n",
      "\n",
      "        Accuracy: 92.841667%, \n",
      "\n",
      "        Recall: 31.166667%, \n",
      "\n",
      "        Precision: 91.891892%, \n",
      "\n",
      "        Avg loss: 0.249317 \n",
      "\n",
      "    \n",
      "Val ROC AUC Score: 0.7446021990740741\n"
     ]
    },
    {
     "name": "stderr",
     "output_type": "stream",
     "text": [
      "\n"
     ]
    },
    {
     "data": {
      "image/png": "[encoded data removed]",
      "text/plain": [
       "<Figure size 432x288 with 1 Axes>"
      ]
     },
     "metadata": {
      "needs_background": "light"
     },
     "output_type": "display_data"
    },
    {
     "name": "stdout",
     "output_type": "stream",
     "text": [
      "Fold 1/5 | Epoch 9/10\n",
      "-------------------------------\n",
      "Using original full data...\n",
      "Successfully splitted dataset!\n",
      " Trainbatches: 6000\n",
      " Validationbatches: 1500\n",
      "Starting model training...\n"
     ]
    },
    {
     "name": "stderr",
     "output_type": "stream",
     "text": [
      "Training: 100%|██████████| 6000/6000 [47:07<00:00,  2.12it/s]  \n"
     ]
    },
    {
     "name": "stdout",
     "output_type": "stream",
     "text": [
      "Training Error: \n",
      " \n",
      "        Accuracy: 92.883333%, \n",
      "\n",
      "        Recall: 32.145833%, \n",
      "\n",
      "        Precision: 90.658049%, \n",
      "\n",
      "        Avg loss: 0.243371 \n",
      "\n",
      "    \n",
      "Starting model validation...\n"
     ]
    },
    {
     "name": "stderr",
     "output_type": "stream",
     "text": [
      "Evaluating: 100%|██████████| 1500/1500 [09:53<00:00,  2.53it/s]\n"
     ]
    },
    {
     "name": "stdout",
     "output_type": "stream",
     "text": [
      "Validation Error: \n",
      "\n",
      "        Accuracy: 92.708333%, \n",
      "\n",
      "        Recall: 27.833333%, \n",
      "\n",
      "        Precision: 97.376093%, \n",
      "\n",
      "        Avg loss: 0.249415 \n",
      "\n",
      "    \n",
      "Val ROC AUC Score: 0.7408819444444446\n"
     ]
    },
    {
     "data": {
      "image/png": "[encoded data removed]",
      "text/plain": [
       "<Figure size 432x288 with 1 Axes>"
      ]
     },
     "metadata": {
      "needs_background": "light"
     },
     "output_type": "display_data"
    },
    {
     "name": "stdout",
     "output_type": "stream",
     "text": [
      "Fold 1/5 | Epoch 10/10\n",
      "-------------------------------\n",
      "Using original full data...\n",
      "Successfully splitted dataset!\n",
      " Trainbatches: 6000\n",
      " Validationbatches: 1500\n",
      "Starting model training...\n"
     ]
    },
    {
     "name": "stderr",
     "output_type": "stream",
     "text": [
      "Training: 100%|██████████| 6000/6000 [47:02<00:00,  2.13it/s]  \n"
     ]
    },
    {
     "name": "stdout",
     "output_type": "stream",
     "text": [
      "Training Error: \n",
      " \n",
      "        Accuracy: 92.920833%, \n",
      "\n",
      "        Recall: 32.562500%, \n",
      "\n",
      "        Precision: 90.661253%, \n",
      "\n",
      "        Avg loss: 0.242950 \n",
      "\n",
      "    \n",
      "Starting model validation...\n"
     ]
    },
    {
     "name": "stderr",
     "output_type": "stream",
     "text": [
      "Evaluating: 100%|██████████| 1500/1500 [09:41<00:00,  2.58it/s]\n"
     ]
    },
    {
     "name": "stdout",
     "output_type": "stream",
     "text": [
      "Validation Error: \n",
      "\n",
      "        Accuracy: 92.708333%, \n",
      "\n",
      "        Recall: 27.916667%, \n",
      "\n",
      "        Precision: 97.101449%, \n",
      "\n",
      "        Avg loss: 0.253876 \n",
      "\n",
      "    \n",
      "Val ROC AUC Score: 0.7550110725308641\n"
     ]
    },
    {
     "data": {
      "image/png": "[encoded data removed]",
      "text/plain": [
       "<Figure size 432x288 with 1 Axes>"
      ]
     },
     "metadata": {
      "needs_background": "light"
     },
     "output_type": "display_data"
    },
    {
     "name": "stdout",
     "output_type": "stream",
     "text": [
      "Training done! Best model in fold 0, epoch 9 with roc_auc of 0.7550110725308641\n"
     ]
    }
   ],
   "source": [
    "df_train = pd.read_csv(conf_dict[\"input_dir\"] + conf_dict[\"train_csv\"])\n",
    "if not conf_dict[\"use_all\"]:\n",
    "    df_train = df_train[:conf_dict[\"only_use\"]]\n",
    "df_train[\"file_path\"] = df_train[\"id\"].apply(get_file_path, directory=conf_dict[\"train_dir\"])\n",
    "\n",
    "loss_fn = nn.BCEWithLogitsLoss() # weight=torch.tensor([1, 10])) # => 1er labels um das 10-fache relevanter machen\n",
    "num_epochs = conf_dict[\"epochs\"]\n",
    "num_folds = conf_dict[\"folds\"]\n",
    "skf = StratifiedKFold(n_splits=num_folds)\n",
    "\n",
    "with codecs.open('logs/schnaufNet2.0 train.log', 'a') as up:\n",
    "    up.write(\"------------------ new training ------------------\")\n",
    "with codecs.open('logs/schnaufNet2.0 validation.log', 'a') as up:\n",
    "    up.write(\"------------------ new validation ------------------\")\n",
    "\n",
    "for fold, (train_index, val_index) in enumerate(skf.split(df_train, df_train[\"target\"])):\n",
    "    model = EfficientNetBackbone(out_dim=1, load_schnaufnet_model=conf_dict[\"load_model\"])\n",
    "    model.to(device)\n",
    "    optimizer = torch.optim.Adam(model.parameters(), lr=conf_dict[\"learn_rate\"], weight_decay=conf_dict[\"weight_decay\"]) # torch.optim.SGD(model.parameters(), lr=conf_dict[\"learn_rate\"]) \n",
    "    scheduler = torch.optim.lr_scheduler.CosineAnnealingLR(\n",
    "        optimizer, T_max=conf_dict[\"epochs\"], eta_min=conf_dict[\"min_learn_rate\"], last_epoch=-1\n",
    "    )\n",
    "    best_roc_auc = 0\n",
    "    best_roc_auc_fold = 1\n",
    "    best_roc_auc_fold_epoch = 1\n",
    "    epoch_train_loss_list = []\n",
    "    for epoch in range(num_epochs):\n",
    "        print(f\"Fold {fold + 1}/{num_folds} | Epoch {epoch + 1}/{num_epochs}\\n-------------------------------\")\n",
    "        # if epoch == math.floor(num_epochs * conf_dict[\"split_until_ratio\"]):\n",
    "        #     train_dataloader, val_dataloader = split(train_index, val_index, behaviour=new_split_behaviour)\n",
    "        # else:\n",
    "        #     train_dataloader, val_dataloader = split(train_index, val_index, behaviour=current_split_behaviour)\n",
    "        train_dataloader, val_dataloader = split(train_index, val_index, behaviour=conf_dict[\"behaviours\"][\"all\"]) # only behaviour 'all'\n",
    "        train_loop(model, train_dataloader, optimizer, loss_fn, scheduler, epoch_train_loss_list)\n",
    "        val_labels, val_predictions = validation_loop(model, val_dataloader, loss_fn)\n",
    "        roc_auc = metrics.roc_auc_score(val_labels, val_predictions)\n",
    "        print(f\"Val ROC AUC Score: {roc_auc}\")\n",
    "        with codecs.open('logs/schnaufNet2.0 validation.log', 'a') as up:\n",
    "            up.write(f\"\"\"\n",
    "                Epoch={epoch}, Valid ROC AUC={roc_auc}\\n\n",
    "            \"\"\")\n",
    "        if roc_auc > best_roc_auc:\n",
    "            torch.save(model.state_dict(), \"best_roc_auc_\" + conf_dict[\"model\"] + \"-\" + str(fold) + \"-\" + str(epoch) + \".pth\")\n",
    "            best_roc_auc = roc_auc\n",
    "            best_roc_auc_fold = fold\n",
    "            best_roc_auc_epoch = epoch\n",
    "        plt.plot(epoch_train_loss_list, \"ro-\")\n",
    "        plt.title(\"Loss over epochs\")\n",
    "        plt.xlabel(\"Epoch\")\n",
    "        plt.ylabel(\"Loss\")\n",
    "        plt.show()\n",
    "    break # for test purposes only one fold\n",
    "print(f\"Training done! Best model in fold {best_roc_auc_fold}, epoch {best_roc_auc_epoch} with roc_auc of {best_roc_auc}\")"
   ]
  }
 ],
 "metadata": {
  "interpreter": {
   "hash": "cd13562b0d53cf8f16620a562c29f3801c7294b99be841c5d9655a8ee4126191"
  },
  "kernelspec": {
   "display_name": "Python 3.9.5 64-bit ('seti': conda)",
   "language": "python",
   "name": "python3"
  },
  "language_info": {
   "codemirror_mode": {
    "name": "ipython",
    "version": 3
   },
   "file_extension": ".py",
   "mimetype": "text/x-python",
   "name": "python",
   "nbconvert_exporter": "python",
   "pygments_lexer": "ipython3",
   "version": "3.8.12"
  },
  "orig_nbformat": 4
 },
 "nbformat": 4,
 "nbformat_minor": 2
}
